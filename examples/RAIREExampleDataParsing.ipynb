{
 "cells": [
  {
   "cell_type": "code",
   "execution_count": 1,
   "metadata": {
    "jupyter": {
     "source_hidden": true
    },
    "scrolled": false
   },
   "outputs": [
    {
     "name": "stdout",
     "output_type": "stream",
     "text": [
      "apparentWinner = 15\n",
      "candidates = ['15', '16', '17', '18']\n",
      "apparent Non Winners: ['16', '17', '18']\n",
      "Apparent winner: \n",
      "15-SUZY LOFTUS\n",
      "Apparently eliminated:\n",
      "16-LEIF DAUTCH,\n",
      "17-NANCY TUNG,\n",
      "18-CHESA BOUDIN\n",
      "\n",
      "\n"
     ]
    }
   ],
   "source": [
    "import os, sys\n",
    "sys.path.append(os.path.join(os.getcwd(), '..'))\n",
    "\n",
    "import json\n",
    "import svgling\n",
    "from svgling.figure import Caption, SideBySide, RowByRow\n",
    "from shangrla.IRVVisualisationUtils import treeListToTuple, parseAssertions, printAssertions, buildRemainingTreeAsLists, buildPrintedResults, printTrees\n",
    "\n",
    "#a_file = open(\"Data/SFDA2019_PrelimReport11VBMJustDAAssertions.json\")\n",
    "a_file = open(\"Data/log.json\")\n",
    "auditfile = json.load(a_file)\n",
    "\n",
    "c_file = open(\"./Data/SFDA2019/SFDA2019_CandidateManifest.json\")\n",
    "candidatefile = json.load(c_file)\n",
    "        \n",
    "(apparentWinner, apparentNonWinners, WOLosers,IRVElims) = parseAssertions(auditfile, candidatefile)\n",
    "                \n",
    "elimTrees = buildPrintedResults(apparentWinner[0], apparentNonWinners, WOLosers,IRVElims)"
   ]
  },
  {
   "cell_type": "markdown",
   "metadata": {},
   "source": [
    "# RAIRE example assertion parser and visualizer\n",
    "\n",
    "This notebook parses and visualizes RAIRE assertions.\n",
    "Right now it's hardcoded to read RAIRE_sample_audit1.json, but you can change that.\n",
    "Start by executing the rectangle above to understand the election and the apparent winner.\n",
    "The audit needs to exclude all the other possible winners, though we don't care about other elimination orders in which the apparent winner still wins.\n",
    "Execute the next code snippet to see the trees of possible alternative elimination orders.\n",
    "Each tree will be pruned according to RAIRE's assertions, with each pruned branch tagged with the assertion that allowed us to exclude it.\n",
    "You (the auditor) need to check that all the leaves end in an assertion, which shows that they have been excluded.\n"
   ]
  },
  {
   "cell_type": "code",
   "execution_count": 2,
   "metadata": {
    "jupyter": {
     "source_hidden": true
    }
   },
   "outputs": [
    {
     "data": {
      "image/svg+xml": [
       "<svg width=\"440px\" height=\"890px\" viewBox=\"0,0,440.0,890.0\" preserveAspectRatio=\"xMidYMid meet\" xmlns=\"http://www.w3.org/2000/svg\" xmlns:xlink=\"http://www.w3.org/1999/xlink\" xmlns:ev=\"http://www.w3.org/2001/xml-events\" baseProfile=\"full\" version=\"1.1\"><defs /><svg x=\"0\" y=\"0\" width=\"440.0\" height=\"857.5\"><defs /><svg width=\"440px\" height=\"857.5px\" viewBox=\"0,0,440.0,857.5\" preserveAspectRatio=\"xMidYMid meet\" xmlns=\"http://www.w3.org/2000/svg\" xmlns:xlink=\"http://www.w3.org/1999/xlink\" xmlns:ev=\"http://www.w3.org/2001/xml-events\" baseProfile=\"full\" version=\"1.1\"><defs /><svg x=\"0\" y=\"16\" height=\"232.5\" width=\"352.0\"><defs /><svg width=\"352px\" height=\"232.5px\" viewBox=\"0,0,352.0,232.5\" preserveAspectRatio=\"xMidYMid meet\" xmlns=\"http://www.w3.org/2000/svg\" xmlns:xlink=\"http://www.w3.org/1999/xlink\" xmlns:ev=\"http://www.w3.org/2001/xml-events\" baseProfile=\"full\" version=\"1.1\"><defs /><svg x=\"0\" y=\"0\" width=\"352.0\" height=\"200.0\"><defs /><svg style=\"font-family: times, serif; font-weight:normal; font-style: normal; font-size: 16px;\" width=\"352px\" height=\"200px\" viewBox=\"0,0,352.0,200.0\" preserveAspectRatio=\"xMidYMid meet\" xmlns=\"http://www.w3.org/2000/svg\" xmlns:xlink=\"http://www.w3.org/1999/xlink\" xmlns:ev=\"http://www.w3.org/2001/xml-events\" baseProfile=\"full\" version=\"1.1\"><defs /><svg x=\"0\" y=\"0em\" width=\"100%\"><defs /><text text-anchor=\"middle\" x=\"50%\" y=\"1em\">16</text></svg><svg x=\"0%\" y=\"3em\" width=\"50%\"><defs /><svg x=\"0\" y=\"0em\" width=\"100%\"><defs /><text text-anchor=\"middle\" x=\"50%\" y=\"1em\">17</text></svg><svg x=\"0%\" y=\"3em\" width=\"50%\"><defs /><svg x=\"0\" y=\"0.5em\" width=\"100%\"><defs /><text text-anchor=\"middle\" x=\"50%\" y=\"1em\">18</text></svg><svg x=\"0%\" y=\"4em\" width=\"100%\"><defs /><svg x=\"0\" y=\"0em\" width=\"100%\"><defs /><text text-anchor=\"middle\" x=\"50%\" y=\"1em\">IRV 9</text><text text-anchor=\"middle\" x=\"50%\" y=\"2em\">Confirmed</text></svg></svg><line stroke=\"black\" x1=\"50%\" y1=\"1.7em\" x2=\"50%\" y2=\"4em\" /></svg><line stroke=\"black\" x1=\"50%\" y1=\"1.2em\" x2=\"25%\" y2=\"3.5em\" /><svg x=\"50%\" y=\"3em\" width=\"50%\"><defs /><svg x=\"0\" y=\"0.5em\" width=\"100%\"><defs /><text text-anchor=\"middle\" x=\"50%\" y=\"1em\">15</text></svg><svg x=\"0%\" y=\"4em\" width=\"100%\"><defs /><svg x=\"0\" y=\"0em\" width=\"100%\"><defs /><text text-anchor=\"middle\" x=\"50%\" y=\"1em\">IRV 10</text><text text-anchor=\"middle\" x=\"50%\" y=\"2em\">Confirmed</text></svg></svg><line stroke=\"black\" x1=\"50%\" y1=\"1.7em\" x2=\"50%\" y2=\"4em\" /></svg><line stroke=\"black\" x1=\"50%\" y1=\"1.2em\" x2=\"75%\" y2=\"3.5em\" /></svg><line stroke=\"black\" x1=\"50%\" y1=\"1.2em\" x2=\"25%\" y2=\"3em\" /><svg x=\"50%\" y=\"3em\" width=\"25%\"><defs /><svg x=\"0\" y=\"0em\" width=\"100%\"><defs /><text text-anchor=\"middle\" x=\"50%\" y=\"1em\">18</text></svg><svg x=\"0%\" y=\"3em\" width=\"100%\"><defs /><svg x=\"0\" y=\"0em\" width=\"100%\"><defs /><text text-anchor=\"middle\" x=\"50%\" y=\"1em\">IRV 4</text><text text-anchor=\"middle\" x=\"50%\" y=\"2em\">Confirmed</text></svg></svg><line stroke=\"black\" x1=\"50%\" y1=\"1.2em\" x2=\"50%\" y2=\"3em\" /></svg><line stroke=\"black\" x1=\"50%\" y1=\"1.2em\" x2=\"62.5%\" y2=\"3em\" /><svg x=\"75%\" y=\"3em\" width=\"25%\"><defs /><svg x=\"0\" y=\"0em\" width=\"100%\"><defs /><text text-anchor=\"middle\" x=\"50%\" y=\"1em\">15</text></svg><svg x=\"0%\" y=\"3em\" width=\"100%\"><defs /><svg x=\"0\" y=\"0em\" width=\"100%\"><defs /><text text-anchor=\"middle\" x=\"50%\" y=\"1em\">IRV 6</text><text text-anchor=\"middle\" x=\"50%\" y=\"2em\">Confirmed</text></svg></svg><line stroke=\"black\" x1=\"50%\" y1=\"1.2em\" x2=\"50%\" y2=\"3em\" /></svg><line stroke=\"black\" x1=\"50%\" y1=\"1.2em\" x2=\"87.5%\" y2=\"3em\" /></svg></svg><svg x=\"0\" y=\"206.5\" width=\"100%\" height=\"100%\"><defs /><text text-anchor=\"middle\" style=\"font-family: times, serif; font-weight:normal; font-style: italic; font-size: 13px;\" x=\"50%\" y=\"1em\">Pruned tree in which 16-LEIF DAUTCH wins.</text></svg></svg></svg><svg x=\"0\" y=\"264.5\" height=\"577.0\" width=\"440.0\"><defs /><svg width=\"440px\" height=\"577px\" viewBox=\"0,0,440.0,577.0\" preserveAspectRatio=\"xMidYMid meet\" xmlns=\"http://www.w3.org/2000/svg\" xmlns:xlink=\"http://www.w3.org/1999/xlink\" xmlns:ev=\"http://www.w3.org/2001/xml-events\" baseProfile=\"full\" version=\"1.1\"><defs /><svg x=\"0\" y=\"16\" height=\"232.5\" width=\"352.0\"><defs /><svg width=\"352px\" height=\"232.5px\" viewBox=\"0,0,352.0,232.5\" preserveAspectRatio=\"xMidYMid meet\" xmlns=\"http://www.w3.org/2000/svg\" xmlns:xlink=\"http://www.w3.org/1999/xlink\" xmlns:ev=\"http://www.w3.org/2001/xml-events\" baseProfile=\"full\" version=\"1.1\"><defs /><svg x=\"0\" y=\"0\" width=\"352.0\" height=\"200.0\"><defs /><svg style=\"font-family: times, serif; font-weight:normal; font-style: normal; font-size: 16px;\" width=\"352px\" height=\"200px\" viewBox=\"0,0,352.0,200.0\" preserveAspectRatio=\"xMidYMid meet\" xmlns=\"http://www.w3.org/2000/svg\" xmlns:xlink=\"http://www.w3.org/1999/xlink\" xmlns:ev=\"http://www.w3.org/2001/xml-events\" baseProfile=\"full\" version=\"1.1\"><defs /><svg x=\"0\" y=\"0em\" width=\"100%\"><defs /><text text-anchor=\"middle\" x=\"50%\" y=\"1em\">17</text></svg><svg x=\"0%\" y=\"3em\" width=\"25%\"><defs /><svg x=\"0\" y=\"0em\" width=\"100%\"><defs /><text text-anchor=\"middle\" x=\"50%\" y=\"1em\">18</text></svg><svg x=\"0%\" y=\"3em\" width=\"100%\"><defs /><svg x=\"0\" y=\"0em\" width=\"100%\"><defs /><text text-anchor=\"middle\" x=\"50%\" y=\"1em\">IRV 1</text><text text-anchor=\"middle\" x=\"50%\" y=\"2em\">Confirmed</text></svg></svg><line stroke=\"black\" x1=\"50%\" y1=\"1.2em\" x2=\"50%\" y2=\"3em\" /></svg><line stroke=\"black\" x1=\"50%\" y1=\"1.2em\" x2=\"12.5%\" y2=\"3em\" /><svg x=\"25%\" y=\"3em\" width=\"25%\"><defs /><svg x=\"0\" y=\"0em\" width=\"100%\"><defs /><text text-anchor=\"middle\" x=\"50%\" y=\"1em\">15</text></svg><svg x=\"0%\" y=\"3em\" width=\"100%\"><defs /><svg x=\"0\" y=\"0em\" width=\"100%\"><defs /><text text-anchor=\"middle\" x=\"50%\" y=\"1em\">IRV 5</text><text text-anchor=\"middle\" x=\"50%\" y=\"2em\">Confirmed</text></svg></svg><line stroke=\"black\" x1=\"50%\" y1=\"1.2em\" x2=\"50%\" y2=\"3em\" /></svg><line stroke=\"black\" x1=\"50%\" y1=\"1.2em\" x2=\"37.5%\" y2=\"3em\" /><svg x=\"50%\" y=\"3em\" width=\"50%\"><defs /><svg x=\"0\" y=\"0em\" width=\"100%\"><defs /><text text-anchor=\"middle\" x=\"50%\" y=\"1em\">16</text></svg><svg x=\"0%\" y=\"3em\" width=\"50%\"><defs /><svg x=\"0\" y=\"0.5em\" width=\"100%\"><defs /><text text-anchor=\"middle\" x=\"50%\" y=\"1em\">18</text></svg><svg x=\"0%\" y=\"4em\" width=\"100%\"><defs /><svg x=\"0\" y=\"0em\" width=\"100%\"><defs /><text text-anchor=\"middle\" x=\"50%\" y=\"1em\">IRV 9</text><text text-anchor=\"middle\" x=\"50%\" y=\"2em\">Confirmed</text></svg></svg><line stroke=\"black\" x1=\"50%\" y1=\"1.7em\" x2=\"50%\" y2=\"4em\" /></svg><line stroke=\"black\" x1=\"50%\" y1=\"1.2em\" x2=\"25%\" y2=\"3.5em\" /><svg x=\"50%\" y=\"3em\" width=\"50%\"><defs /><svg x=\"0\" y=\"0.5em\" width=\"100%\"><defs /><text text-anchor=\"middle\" x=\"50%\" y=\"1em\">15</text></svg><svg x=\"0%\" y=\"4em\" width=\"100%\"><defs /><svg x=\"0\" y=\"0em\" width=\"100%\"><defs /><text text-anchor=\"middle\" x=\"50%\" y=\"1em\">IRV 10</text><text text-anchor=\"middle\" x=\"50%\" y=\"2em\">Confirmed</text></svg></svg><line stroke=\"black\" x1=\"50%\" y1=\"1.7em\" x2=\"50%\" y2=\"4em\" /></svg><line stroke=\"black\" x1=\"50%\" y1=\"1.2em\" x2=\"75%\" y2=\"3.5em\" /></svg><line stroke=\"black\" x1=\"50%\" y1=\"1.2em\" x2=\"75%\" y2=\"3em\" /></svg></svg><svg x=\"0\" y=\"206.5\" width=\"100%\" height=\"100%\"><defs /><text text-anchor=\"middle\" style=\"font-family: times, serif; font-weight:normal; font-style: italic; font-size: 13px;\" x=\"50%\" y=\"1em\">Pruned tree in which 17-NANCY TUNG wins.</text></svg></svg></svg><svg x=\"0\" y=\"264.5\" height=\"296.5\" width=\"440.0\"><defs /><svg width=\"440px\" height=\"296.5px\" viewBox=\"0,0,440.0,296.5\" preserveAspectRatio=\"xMidYMid meet\" xmlns=\"http://www.w3.org/2000/svg\" xmlns:xlink=\"http://www.w3.org/1999/xlink\" xmlns:ev=\"http://www.w3.org/2001/xml-events\" baseProfile=\"full\" version=\"1.1\"><defs /><svg x=\"0\" y=\"0\" width=\"440.0\" height=\"264.0\"><defs /><svg style=\"font-family: times, serif; font-weight:normal; font-style: normal; font-size: 16px;\" width=\"440px\" height=\"264px\" viewBox=\"0,0,440.0,264.0\" preserveAspectRatio=\"xMidYMid meet\" xmlns=\"http://www.w3.org/2000/svg\" xmlns:xlink=\"http://www.w3.org/1999/xlink\" xmlns:ev=\"http://www.w3.org/2001/xml-events\" baseProfile=\"full\" version=\"1.1\"><defs /><svg x=\"0\" y=\"0em\" width=\"100%\"><defs /><text text-anchor=\"middle\" x=\"50%\" y=\"1em\">18</text></svg><svg x=\"0%\" y=\"3em\" width=\"40%\"><defs /><svg x=\"0\" y=\"0em\" width=\"100%\"><defs /><text text-anchor=\"middle\" x=\"50%\" y=\"1em\">17</text></svg><svg x=\"0%\" y=\"3em\" width=\"50%\"><defs /><svg x=\"0\" y=\"0.5em\" width=\"100%\"><defs /><text text-anchor=\"middle\" x=\"50%\" y=\"1em\">15</text></svg><svg x=\"0%\" y=\"4em\" width=\"100%\"><defs /><svg x=\"0\" y=\"0em\" width=\"100%\"><defs /><text text-anchor=\"middle\" x=\"50%\" y=\"1em\">IRV 3</text><text text-anchor=\"middle\" x=\"50%\" y=\"2em\">Confirmed</text></svg></svg><line stroke=\"black\" x1=\"50%\" y1=\"1.7em\" x2=\"50%\" y2=\"4em\" /></svg><line stroke=\"black\" x1=\"50%\" y1=\"1.2em\" x2=\"25%\" y2=\"3.5em\" /><svg x=\"50%\" y=\"3em\" width=\"50%\"><defs /><svg x=\"0\" y=\"0.5em\" width=\"100%\"><defs /><text text-anchor=\"middle\" x=\"50%\" y=\"1em\">16</text></svg><svg x=\"0%\" y=\"4em\" width=\"100%\"><defs /><svg x=\"0\" y=\"0.5em\" width=\"100%\"><defs /><text text-anchor=\"middle\" x=\"50%\" y=\"1em\">15</text></svg><svg x=\"0%\" y=\"4em\" width=\"100%\"><defs /><svg x=\"0\" y=\"0em\" width=\"100%\"><defs /><text text-anchor=\"middle\" x=\"50%\" y=\"1em\">IRV 8</text><text text-anchor=\"middle\" x=\"50%\" y=\"2em\">Confirmed</text></svg></svg><line stroke=\"black\" x1=\"50%\" y1=\"1.7em\" x2=\"50%\" y2=\"4em\" /></svg><line stroke=\"black\" x1=\"50%\" y1=\"1.7em\" x2=\"50%\" y2=\"4.5em\" /></svg><line stroke=\"black\" x1=\"50%\" y1=\"1.2em\" x2=\"75%\" y2=\"3.5em\" /></svg><line stroke=\"black\" x1=\"50%\" y1=\"1.2em\" x2=\"20%\" y2=\"3em\" /><svg x=\"40%\" y=\"3em\" width=\"20%\"><defs /><svg x=\"0\" y=\"0em\" width=\"100%\"><defs /><text text-anchor=\"middle\" x=\"50%\" y=\"1em\">15</text></svg><svg x=\"0%\" y=\"3em\" width=\"100%\"><defs /><svg x=\"0\" y=\"0em\" width=\"100%\"><defs /><text text-anchor=\"middle\" x=\"50%\" y=\"1em\">IRV 0</text><text text-anchor=\"middle\" x=\"50%\" y=\"2em\">Confirmed</text></svg></svg><line stroke=\"black\" x1=\"50%\" y1=\"1.2em\" x2=\"50%\" y2=\"3em\" /></svg><line stroke=\"black\" x1=\"50%\" y1=\"1.2em\" x2=\"50%\" y2=\"3em\" /><svg x=\"60%\" y=\"3em\" width=\"40%\"><defs /><svg x=\"0\" y=\"0em\" width=\"100%\"><defs /><text text-anchor=\"middle\" x=\"50%\" y=\"1em\">16</text></svg><svg x=\"0%\" y=\"3em\" width=\"50%\"><defs /><svg x=\"0\" y=\"0.5em\" width=\"100%\"><defs /><text text-anchor=\"middle\" x=\"50%\" y=\"1em\">17</text></svg><svg x=\"0%\" y=\"4em\" width=\"100%\"><defs /><svg x=\"0\" y=\"0em\" width=\"100%\"><defs /><text text-anchor=\"middle\" x=\"50%\" y=\"1em\">IRV 2</text><text text-anchor=\"middle\" x=\"50%\" y=\"2em\">Confirmed</text></svg></svg><line stroke=\"black\" x1=\"50%\" y1=\"1.7em\" x2=\"50%\" y2=\"4em\" /></svg><line stroke=\"black\" x1=\"50%\" y1=\"1.2em\" x2=\"25%\" y2=\"3.5em\" /><svg x=\"50%\" y=\"3em\" width=\"50%\"><defs /><svg x=\"0\" y=\"0.5em\" width=\"100%\"><defs /><text text-anchor=\"middle\" x=\"50%\" y=\"1em\">15</text></svg><svg x=\"0%\" y=\"4em\" width=\"100%\"><defs /><svg x=\"0\" y=\"0em\" width=\"100%\"><defs /><text text-anchor=\"middle\" x=\"50%\" y=\"1em\">IRV 7</text><text text-anchor=\"middle\" x=\"50%\" y=\"2em\">Confirmed</text></svg></svg><line stroke=\"black\" x1=\"50%\" y1=\"1.7em\" x2=\"50%\" y2=\"4em\" /></svg><line stroke=\"black\" x1=\"50%\" y1=\"1.2em\" x2=\"75%\" y2=\"3.5em\" /></svg><line stroke=\"black\" x1=\"50%\" y1=\"1.2em\" x2=\"80%\" y2=\"3em\" /></svg></svg><svg x=\"0\" y=\"270.5\" width=\"100%\" height=\"100%\"><defs /><text text-anchor=\"middle\" style=\"font-family: times, serif; font-weight:normal; font-style: italic; font-size: 13px;\" x=\"50%\" y=\"1em\">Pruned tree in which 18-CHESA BOUDIN wins.</text></svg></svg></svg></svg></svg></svg></svg><svg x=\"0\" y=\"864.0\" width=\"100%\" height=\"100%\"><defs /><text text-anchor=\"middle\" style=\"font-family: times, serif; font-weight:normal; font-style: italic; font-size: 13px;\" x=\"50%\" y=\"1em\">Trees showing how other winners are excluded.</text></svg></svg>"
      ],
      "text/plain": [
       "<svgling.figure.Caption at 0x104446400>"
      ]
     },
     "execution_count": 2,
     "metadata": {},
     "output_type": "execute_result"
    }
   ],
   "source": [
    "Caption(printTrees(elimTrees),'Trees showing how other winners are excluded.')\n"
   ]
  },
  {
   "cell_type": "markdown",
   "metadata": {},
   "source": [
    "Now print all the assertions.  This gives you an explanation of the meaning of each one.\n"
   ]
  },
  {
   "cell_type": "code",
   "execution_count": 3,
   "metadata": {
    "jupyter": {
     "source_hidden": true
    }
   },
   "outputs": [
    {
     "name": "stdout",
     "output_type": "stream",
     "text": [
      "\n",
      "\n",
      "IRV assertions: \n",
      "Confirmed:   IRV  0:\u001b[30m Candidate 15 cannot be eliminated next when {'17', '16'} are eliminated.\n",
      "Confirmed:   IRV  1:\u001b[30m Candidate 18 cannot be eliminated next when {'15', '16'} are eliminated.\n",
      "Confirmed:   IRV  2:\u001b[30m Candidate 17 cannot be eliminated next when {'15'} are eliminated.\n",
      "Confirmed:   IRV  3:\u001b[30m Candidate 15 cannot be eliminated next when {'16'} are eliminated.\n",
      "Confirmed:   IRV  4:\u001b[30m Candidate 18 cannot be eliminated next when {'17', '15'} are eliminated.\n",
      "Confirmed:   IRV  5:\u001b[30m Candidate 15 cannot be eliminated next when {'18', '16'} are eliminated.\n",
      "Confirmed:   IRV  6:\u001b[30m Candidate 15 cannot be eliminated next when {'17', '18'} are eliminated.\n",
      "Confirmed:   IRV  7:\u001b[30m Candidate 15 cannot be eliminated next when {'17'} are eliminated.\n",
      "Confirmed:   IRV  8:\u001b[30m Candidate 15 cannot be eliminated next when {} are eliminated.\n",
      "Confirmed:   IRV  9:\u001b[30m Candidate 18 cannot be eliminated next when {'15'} are eliminated.\n",
      "Confirmed:   IRV 10:\u001b[30m Candidate 15 cannot be eliminated next when {'18'} are eliminated.\n"
     ]
    }
   ],
   "source": [
    "printAssertions(WOLosers,IRVElims)"
   ]
  },
  {
   "cell_type": "markdown",
   "metadata": {},
   "source": [
    "Now the audit begins! We now apply a Risk Limiting Audit to test each of the assertions above.\n",
    "For each assertion, we consider the opposite hypothesis, that candidate C *can* be eliminated at that point. We then try to audit until that hypothesis can be rejected.  If all the hypotheses are rejected, the election result is declared correct.  At any time, if the audit has failed to reject all the hypotheses, a full manual recount can be conducted.\n"
   ]
  }
 ],
 "metadata": {
  "kernelspec": {
   "display_name": "Python 3 (ipykernel)",
   "language": "python",
   "name": "python3"
  },
  "language_info": {
   "codemirror_mode": {
    "name": "ipython",
    "version": 3
   },
   "file_extension": ".py",
   "mimetype": "text/x-python",
   "name": "python",
   "nbconvert_exporter": "python",
   "pygments_lexer": "ipython3",
   "version": "3.9.16"
  }
 },
 "nbformat": 4,
 "nbformat_minor": 2
}
