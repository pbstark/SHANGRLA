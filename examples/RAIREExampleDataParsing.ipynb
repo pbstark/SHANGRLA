{
 "cells": [
  {
   "cell_type": "code",
   "execution_count": 1,
   "metadata": {
    "jupyter": {
     "source_hidden": true
    },
    "scrolled": false
   },
   "outputs": [
    {
     "name": "stdout",
     "output_type": "stream",
     "text": [
      "apparentWinner = 15\n",
      "candidates = ['15', '16', '17', '18']\n",
      "apparent Non Winners: ['16', '17', '18']\n",
      "Apparent winner: \n",
      "15-SUZY LOFTUS\n",
      "Apparently eliminated:\n",
      "16-LEIF DAUTCH,\n",
      "17-NANCY TUNG,\n",
      "18-CHESA BOUDIN\n",
      "\n",
      "\n"
     ]
    }
   ],
   "source": [
    "import json\n",
    "import svgling\n",
    "from svgling.figure import Caption, SideBySide, RowByRow\n",
    "from IRVVisualisationUtils import treeListToTuple, parseAssertions, printAssertions, buildRemainingTreeAsLists, buildPrintedResults, printTrees\n",
    "\n",
    "#a_file = open(\"Data/SFDA2019_PrelimReport11VBMJustDAAssertions.json\")\n",
    "a_file = open(\"Data/log.json\")\n",
    "auditfile = json.load(a_file)\n",
    "\n",
    "c_file = open(\"./Data/CandidateManifest.json\")\n",
    "candidatefile = json.load(c_file)\n",
    "        \n",
    "(apparentWinner, apparentNonWinners, WOLosers,IRVElims) = parseAssertions(auditfile, candidatefile)\n",
    "                \n",
    "elimTrees = buildPrintedResults(apparentWinner[0], apparentNonWinners, WOLosers,IRVElims)"
   ]
  },
  {
   "cell_type": "markdown",
   "metadata": {},
   "source": [
    "# RAIRE example assertion parser and visualizer\n",
    "\n",
    "This notebook parses and visualizes RAIRE assertions.\n",
    "Right now it's hardcoded to read RAIRE_sample_audit1.json, but you can change that.\n",
    "Start by executing the rectangle above to understand the election and the apparent winner.\n",
    "The audit needs to exclude all the other possible winners, though we don't care about other elimination orders in which the apparent winner still wins.\n",
    "Execute the next code snippet to see the trees of possible alternative elimination orders.\n",
    "Each tree will be pruned according to RAIRE's assertions, with each pruned branch tagged with the assertion that allowed us to exclude it.\n",
    "You (the auditor) need to check that all the leaves end in an assertion, which shows that they have been excluded.\n"
   ]
  },
  {
   "cell_type": "code",
   "execution_count": 2,
   "metadata": {
    "jupyter": {
     "source_hidden": true
    }
   },
   "outputs": [
    {
     "data": {
      "image/svg+xml": [
       "<svg baseProfile=\"full\" height=\"890px\" preserveAspectRatio=\"xMidYMid meet\" version=\"1.1\" viewBox=\"0,0,456.0,890.0\" width=\"456px\" xmlns=\"http://www.w3.org/2000/svg\" xmlns:ev=\"http://www.w3.org/2001/xml-events\" xmlns:xlink=\"http://www.w3.org/1999/xlink\"><defs /><svg height=\"857.5\" width=\"456.0\" x=\"0\" y=\"0\"><defs /><svg baseProfile=\"full\" height=\"857.5px\" preserveAspectRatio=\"xMidYMid meet\" version=\"1.1\" viewBox=\"0,0,456.0,857.5\" width=\"456px\" xmlns=\"http://www.w3.org/2000/svg\" xmlns:ev=\"http://www.w3.org/2001/xml-events\" xmlns:xlink=\"http://www.w3.org/1999/xlink\"><defs /><svg height=\"232.5\" width=\"352.0\" x=\"0\" y=\"16\"><defs /><svg baseProfile=\"full\" height=\"232.5px\" preserveAspectRatio=\"xMidYMid meet\" version=\"1.1\" viewBox=\"0,0,352.0,232.5\" width=\"352px\" xmlns=\"http://www.w3.org/2000/svg\" xmlns:ev=\"http://www.w3.org/2001/xml-events\" xmlns:xlink=\"http://www.w3.org/1999/xlink\"><defs /><svg height=\"200.0\" width=\"352.0\" x=\"0\" y=\"0\"><defs /><svg baseProfile=\"full\" height=\"200px\" preserveAspectRatio=\"xMidYMid meet\" style=\"font-family: times, serif; font-weight:normal; font-style: normal; font-size: 16px;\" version=\"1.1\" viewBox=\"0,0,352.0,200.0\" width=\"352px\" xmlns=\"http://www.w3.org/2000/svg\" xmlns:ev=\"http://www.w3.org/2001/xml-events\" xmlns:xlink=\"http://www.w3.org/1999/xlink\"><defs /><svg width=\"100%\" x=\"0\" y=\"0em\"><defs /><text text-anchor=\"middle\" x=\"50%\" y=\"1em\">16</text></svg><svg width=\"50%\" x=\"0%\" y=\"3em\"><defs /><svg width=\"100%\" x=\"0\" y=\"0em\"><defs /><text text-anchor=\"middle\" x=\"50%\" y=\"1em\">17</text></svg><svg width=\"50%\" x=\"0%\" y=\"3em\"><defs /><svg width=\"100%\" x=\"0\" y=\"0.5em\"><defs /><text text-anchor=\"middle\" x=\"50%\" y=\"1em\">15</text></svg><svg width=\"100%\" x=\"0%\" y=\"4em\"><defs /><svg width=\"100%\" x=\"0\" y=\"0em\"><defs /><text text-anchor=\"middle\" x=\"50%\" y=\"1em\">NEN 10</text><text text-anchor=\"middle\" x=\"50%\" y=\"2em\">Confirmed</text></svg></svg><line stroke=\"black\" x1=\"50%\" x2=\"50%\" y1=\"1.7em\" y2=\"4em\" /></svg><line stroke=\"black\" x1=\"50%\" x2=\"25%\" y1=\"1.2em\" y2=\"3.5em\" /><svg width=\"50%\" x=\"50%\" y=\"3em\"><defs /><svg width=\"100%\" x=\"0\" y=\"0.5em\"><defs /><text text-anchor=\"middle\" x=\"50%\" y=\"1em\">18</text></svg><svg width=\"100%\" x=\"0%\" y=\"4em\"><defs /><svg width=\"100%\" x=\"0\" y=\"0em\"><defs /><text text-anchor=\"middle\" x=\"50%\" y=\"1em\">NEN 9</text><text text-anchor=\"middle\" x=\"50%\" y=\"2em\">Confirmed</text></svg></svg><line stroke=\"black\" x1=\"50%\" x2=\"50%\" y1=\"1.7em\" y2=\"4em\" /></svg><line stroke=\"black\" x1=\"50%\" x2=\"75%\" y1=\"1.2em\" y2=\"3.5em\" /></svg><line stroke=\"black\" x1=\"50%\" x2=\"25%\" y1=\"1.2em\" y2=\"3em\" /><svg width=\"25%\" x=\"50%\" y=\"3em\"><defs /><svg width=\"100%\" x=\"0\" y=\"0em\"><defs /><text text-anchor=\"middle\" x=\"50%\" y=\"1em\">15</text></svg><svg width=\"100%\" x=\"0%\" y=\"3em\"><defs /><svg width=\"100%\" x=\"0\" y=\"0em\"><defs /><text text-anchor=\"middle\" x=\"50%\" y=\"1em\">NEN 7</text><text text-anchor=\"middle\" x=\"50%\" y=\"2em\">Confirmed</text></svg></svg><line stroke=\"black\" x1=\"50%\" x2=\"50%\" y1=\"1.2em\" y2=\"3em\" /></svg><line stroke=\"black\" x1=\"50%\" x2=\"62.5%\" y1=\"1.2em\" y2=\"3em\" /><svg width=\"25%\" x=\"75%\" y=\"3em\"><defs /><svg width=\"100%\" x=\"0\" y=\"0em\"><defs /><text text-anchor=\"middle\" x=\"50%\" y=\"1em\">18</text></svg><svg width=\"100%\" x=\"0%\" y=\"3em\"><defs /><svg width=\"100%\" x=\"0\" y=\"0em\"><defs /><text text-anchor=\"middle\" x=\"50%\" y=\"1em\">NEN 4</text><text text-anchor=\"middle\" x=\"50%\" y=\"2em\">Confirmed</text></svg></svg><line stroke=\"black\" x1=\"50%\" x2=\"50%\" y1=\"1.2em\" y2=\"3em\" /></svg><line stroke=\"black\" x1=\"50%\" x2=\"87.5%\" y1=\"1.2em\" y2=\"3em\" /></svg></svg><svg height=\"100%\" width=\"100%\" x=\"0\" y=\"206.5\"><defs /><text style=\"font-family: times, serif; font-weight:normal; font-style: italic; font-size: 13px;\" text-anchor=\"middle\" x=\"50%\" y=\"1em\">Pruned tree in which 16-LEIF DAUTCH wins.</text></svg></svg></svg><svg height=\"577.0\" width=\"456.0\" x=\"0\" y=\"264.5\"><defs /><svg baseProfile=\"full\" height=\"577px\" preserveAspectRatio=\"xMidYMid meet\" version=\"1.1\" viewBox=\"0,0,456.0,577.0\" width=\"456px\" xmlns=\"http://www.w3.org/2000/svg\" xmlns:ev=\"http://www.w3.org/2001/xml-events\" xmlns:xlink=\"http://www.w3.org/1999/xlink\"><defs /><svg height=\"232.5\" width=\"352.0\" x=\"0\" y=\"16\"><defs /><svg baseProfile=\"full\" height=\"232.5px\" preserveAspectRatio=\"xMidYMid meet\" version=\"1.1\" viewBox=\"0,0,352.0,232.5\" width=\"352px\" xmlns=\"http://www.w3.org/2000/svg\" xmlns:ev=\"http://www.w3.org/2001/xml-events\" xmlns:xlink=\"http://www.w3.org/1999/xlink\"><defs /><svg height=\"200.0\" width=\"352.0\" x=\"0\" y=\"0\"><defs /><svg baseProfile=\"full\" height=\"200px\" preserveAspectRatio=\"xMidYMid meet\" style=\"font-family: times, serif; font-weight:normal; font-style: normal; font-size: 16px;\" version=\"1.1\" viewBox=\"0,0,352.0,200.0\" width=\"352px\" xmlns=\"http://www.w3.org/2000/svg\" xmlns:ev=\"http://www.w3.org/2001/xml-events\" xmlns:xlink=\"http://www.w3.org/1999/xlink\"><defs /><svg width=\"100%\" x=\"0\" y=\"0em\"><defs /><text text-anchor=\"middle\" x=\"50%\" y=\"1em\">17</text></svg><svg width=\"25%\" x=\"0%\" y=\"3em\"><defs /><svg width=\"100%\" x=\"0\" y=\"0em\"><defs /><text text-anchor=\"middle\" x=\"50%\" y=\"1em\">15</text></svg><svg width=\"100%\" x=\"0%\" y=\"3em\"><defs /><svg width=\"100%\" x=\"0\" y=\"0em\"><defs /><text text-anchor=\"middle\" x=\"50%\" y=\"1em\">NEN 5</text><text text-anchor=\"middle\" x=\"50%\" y=\"2em\">Confirmed</text></svg></svg><line stroke=\"black\" x1=\"50%\" x2=\"50%\" y1=\"1.2em\" y2=\"3em\" /></svg><line stroke=\"black\" x1=\"50%\" x2=\"12.5%\" y1=\"1.2em\" y2=\"3em\" /><svg width=\"50%\" x=\"25%\" y=\"3em\"><defs /><svg width=\"100%\" x=\"0\" y=\"0em\"><defs /><text text-anchor=\"middle\" x=\"50%\" y=\"1em\">16</text></svg><svg width=\"50%\" x=\"0%\" y=\"3em\"><defs /><svg width=\"100%\" x=\"0\" y=\"0.5em\"><defs /><text text-anchor=\"middle\" x=\"50%\" y=\"1em\">18</text></svg><svg width=\"100%\" x=\"0%\" y=\"4em\"><defs /><svg width=\"100%\" x=\"0\" y=\"0em\"><defs /><text text-anchor=\"middle\" x=\"50%\" y=\"1em\">NEN 9</text><text text-anchor=\"middle\" x=\"50%\" y=\"2em\">Confirmed</text></svg></svg><line stroke=\"black\" x1=\"50%\" x2=\"50%\" y1=\"1.7em\" y2=\"4em\" /></svg><line stroke=\"black\" x1=\"50%\" x2=\"25%\" y1=\"1.2em\" y2=\"3.5em\" /><svg width=\"50%\" x=\"50%\" y=\"3em\"><defs /><svg width=\"100%\" x=\"0\" y=\"0.5em\"><defs /><text text-anchor=\"middle\" x=\"50%\" y=\"1em\">15</text></svg><svg width=\"100%\" x=\"0%\" y=\"4em\"><defs /><svg width=\"100%\" x=\"0\" y=\"0em\"><defs /><text text-anchor=\"middle\" x=\"50%\" y=\"1em\">NEN 10</text><text text-anchor=\"middle\" x=\"50%\" y=\"2em\">Confirmed</text></svg></svg><line stroke=\"black\" x1=\"50%\" x2=\"50%\" y1=\"1.7em\" y2=\"4em\" /></svg><line stroke=\"black\" x1=\"50%\" x2=\"75%\" y1=\"1.2em\" y2=\"3.5em\" /></svg><line stroke=\"black\" x1=\"50%\" x2=\"50%\" y1=\"1.2em\" y2=\"3em\" /><svg width=\"25%\" x=\"75%\" y=\"3em\"><defs /><svg width=\"100%\" x=\"0\" y=\"0em\"><defs /><text text-anchor=\"middle\" x=\"50%\" y=\"1em\">18</text></svg><svg width=\"100%\" x=\"0%\" y=\"3em\"><defs /><svg width=\"100%\" x=\"0\" y=\"0em\"><defs /><text text-anchor=\"middle\" x=\"50%\" y=\"1em\">NEN 1</text><text text-anchor=\"middle\" x=\"50%\" y=\"2em\">Confirmed</text></svg></svg><line stroke=\"black\" x1=\"50%\" x2=\"50%\" y1=\"1.2em\" y2=\"3em\" /></svg><line stroke=\"black\" x1=\"50%\" x2=\"87.5%\" y1=\"1.2em\" y2=\"3em\" /></svg></svg><svg height=\"100%\" width=\"100%\" x=\"0\" y=\"206.5\"><defs /><text style=\"font-family: times, serif; font-weight:normal; font-style: italic; font-size: 13px;\" text-anchor=\"middle\" x=\"50%\" y=\"1em\">Pruned tree in which 17-NANCY TUNG wins.</text></svg></svg></svg><svg height=\"296.5\" width=\"456.0\" x=\"0\" y=\"264.5\"><defs /><svg baseProfile=\"full\" height=\"296.5px\" preserveAspectRatio=\"xMidYMid meet\" version=\"1.1\" viewBox=\"0,0,456.0,296.5\" width=\"456px\" xmlns=\"http://www.w3.org/2000/svg\" xmlns:ev=\"http://www.w3.org/2001/xml-events\" xmlns:xlink=\"http://www.w3.org/1999/xlink\"><defs /><svg height=\"264.0\" width=\"456.0\" x=\"0\" y=\"0\"><defs /><svg baseProfile=\"full\" height=\"264px\" preserveAspectRatio=\"xMidYMid meet\" style=\"font-family: times, serif; font-weight:normal; font-style: normal; font-size: 16px;\" version=\"1.1\" viewBox=\"0,0,456.0,264.0\" width=\"456px\" xmlns=\"http://www.w3.org/2000/svg\" xmlns:ev=\"http://www.w3.org/2001/xml-events\" xmlns:xlink=\"http://www.w3.org/1999/xlink\"><defs /><svg width=\"100%\" x=\"0\" y=\"0em\"><defs /><text text-anchor=\"middle\" x=\"50%\" y=\"1em\">18</text></svg><svg width=\"38.5965%\" x=\"0%\" y=\"3em\"><defs /><svg width=\"100%\" x=\"0\" y=\"0em\"><defs /><text text-anchor=\"middle\" x=\"50%\" y=\"1em\">17</text></svg><svg width=\"50%\" x=\"0%\" y=\"3em\"><defs /><svg width=\"100%\" x=\"0\" y=\"0.5em\"><defs /><text text-anchor=\"middle\" x=\"50%\" y=\"1em\">15</text></svg><svg width=\"100%\" x=\"0%\" y=\"4em\"><defs /><svg width=\"100%\" x=\"0\" y=\"0em\"><defs /><text text-anchor=\"middle\" x=\"50%\" y=\"1em\">NEN 3</text><text text-anchor=\"middle\" x=\"50%\" y=\"2em\">Confirmed</text></svg></svg><line stroke=\"black\" x1=\"50%\" x2=\"50%\" y1=\"1.7em\" y2=\"4em\" /></svg><line stroke=\"black\" x1=\"50%\" x2=\"25%\" y1=\"1.2em\" y2=\"3.5em\" /><svg width=\"50%\" x=\"50%\" y=\"3em\"><defs /><svg width=\"100%\" x=\"0\" y=\"0.5em\"><defs /><text text-anchor=\"middle\" x=\"50%\" y=\"1em\">16</text></svg><svg width=\"100%\" x=\"0%\" y=\"4em\"><defs /><svg width=\"100%\" x=\"0\" y=\"0.5em\"><defs /><text text-anchor=\"middle\" x=\"50%\" y=\"1em\">15</text></svg><svg width=\"100%\" x=\"0%\" y=\"4em\"><defs /><svg width=\"100%\" x=\"0\" y=\"0em\"><defs /><text text-anchor=\"middle\" x=\"50%\" y=\"1em\">NEN 8</text><text text-anchor=\"middle\" x=\"50%\" y=\"2em\">Confirmed</text></svg></svg><line stroke=\"black\" x1=\"50%\" x2=\"50%\" y1=\"1.7em\" y2=\"4em\" /></svg><line stroke=\"black\" x1=\"50%\" x2=\"50%\" y1=\"1.7em\" y2=\"4.5em\" /></svg><line stroke=\"black\" x1=\"50%\" x2=\"75%\" y1=\"1.2em\" y2=\"3.5em\" /></svg><line stroke=\"black\" x1=\"50%\" x2=\"19.2982%\" y1=\"1.2em\" y2=\"3em\" /><svg width=\"22.807%\" x=\"38.5965%\" y=\"3em\"><defs /><svg width=\"100%\" x=\"0\" y=\"0em\"><defs /><text text-anchor=\"middle\" x=\"50%\" y=\"1em\">15</text></svg><svg width=\"100%\" x=\"0%\" y=\"3em\"><defs /><svg width=\"100%\" x=\"0\" y=\"0em\"><defs /><text text-anchor=\"middle\" x=\"50%\" y=\"1em\">NEN 0</text><text text-anchor=\"middle\" x=\"50%\" y=\"2em\">Unconfirmed</text></svg></svg><line stroke=\"black\" x1=\"50%\" x2=\"50%\" y1=\"1.2em\" y2=\"3em\" /></svg><line stroke=\"black\" x1=\"50%\" x2=\"50%\" y1=\"1.2em\" y2=\"3em\" /><svg width=\"38.5965%\" x=\"61.4035%\" y=\"3em\"><defs /><svg width=\"100%\" x=\"0\" y=\"0em\"><defs /><text text-anchor=\"middle\" x=\"50%\" y=\"1em\">16</text></svg><svg width=\"50%\" x=\"0%\" y=\"3em\"><defs /><svg width=\"100%\" x=\"0\" y=\"0.5em\"><defs /><text text-anchor=\"middle\" x=\"50%\" y=\"1em\">17</text></svg><svg width=\"100%\" x=\"0%\" y=\"4em\"><defs /><svg width=\"100%\" x=\"0\" y=\"0em\"><defs /><text text-anchor=\"middle\" x=\"50%\" y=\"1em\">NEN 2</text><text text-anchor=\"middle\" x=\"50%\" y=\"2em\">Confirmed</text></svg></svg><line stroke=\"black\" x1=\"50%\" x2=\"50%\" y1=\"1.7em\" y2=\"4em\" /></svg><line stroke=\"black\" x1=\"50%\" x2=\"25%\" y1=\"1.2em\" y2=\"3.5em\" /><svg width=\"50%\" x=\"50%\" y=\"3em\"><defs /><svg width=\"100%\" x=\"0\" y=\"0.5em\"><defs /><text text-anchor=\"middle\" x=\"50%\" y=\"1em\">15</text></svg><svg width=\"100%\" x=\"0%\" y=\"4em\"><defs /><svg width=\"100%\" x=\"0\" y=\"0em\"><defs /><text text-anchor=\"middle\" x=\"50%\" y=\"1em\">NEN 6</text><text text-anchor=\"middle\" x=\"50%\" y=\"2em\">Confirmed</text></svg></svg><line stroke=\"black\" x1=\"50%\" x2=\"50%\" y1=\"1.7em\" y2=\"4em\" /></svg><line stroke=\"black\" x1=\"50%\" x2=\"75%\" y1=\"1.2em\" y2=\"3.5em\" /></svg><line stroke=\"black\" x1=\"50%\" x2=\"80.7018%\" y1=\"1.2em\" y2=\"3em\" /></svg></svg><svg height=\"100%\" width=\"100%\" x=\"0\" y=\"270.5\"><defs /><text style=\"font-family: times, serif; font-weight:normal; font-style: italic; font-size: 13px;\" text-anchor=\"middle\" x=\"50%\" y=\"1em\">Pruned tree in which 18-CHESA BOUDIN wins.</text></svg></svg></svg></svg></svg></svg></svg><svg height=\"100%\" width=\"100%\" x=\"0\" y=\"864.0\"><defs /><text style=\"font-family: times, serif; font-weight:normal; font-style: italic; font-size: 13px;\" text-anchor=\"middle\" x=\"50%\" y=\"1em\">Trees showing how other winners are excluded.</text></svg></svg>"
      ],
      "text/plain": [
       "<svgling.figure.Caption at 0x7f8db3558fd0>"
      ]
     },
     "execution_count": 2,
     "metadata": {},
     "output_type": "execute_result"
    }
   ],
   "source": [
    "Caption(printTrees(elimTrees),'Trees showing how other winners are excluded.')\n"
   ]
  },
  {
   "cell_type": "markdown",
   "metadata": {},
   "source": [
    "Now print all the assertions.  This gives you an explanation of the meaning of each one.\n"
   ]
  },
  {
   "cell_type": "code",
   "execution_count": 3,
   "metadata": {
    "jupyter": {
     "source_hidden": true
    }
   },
   "outputs": [
    {
     "name": "stdout",
     "output_type": "stream",
     "text": [
      "\n",
      "\n",
      "Not-Eliminated-Next assertions: \n",
      "\u001b[31mUnconfirmed: NEN  0:\u001b[30m Candidate 15 cannot be eliminated next when {'16', '17'} are eliminated.\n",
      "Confirmed:   NEN  1:\u001b[30m Candidate 18 cannot be eliminated next when {'16', '15'} are eliminated.\n",
      "Confirmed:   NEN  2:\u001b[30m Candidate 17 cannot be eliminated next when {'15'} are eliminated.\n",
      "Confirmed:   NEN  3:\u001b[30m Candidate 15 cannot be eliminated next when {'16'} are eliminated.\n",
      "Confirmed:   NEN  4:\u001b[30m Candidate 18 cannot be eliminated next when {'17', '15'} are eliminated.\n",
      "Confirmed:   NEN  5:\u001b[30m Candidate 15 cannot be eliminated next when {'16', '18'} are eliminated.\n",
      "Confirmed:   NEN  6:\u001b[30m Candidate 15 cannot be eliminated next when {'17'} are eliminated.\n",
      "Confirmed:   NEN  7:\u001b[30m Candidate 15 cannot be eliminated next when {'18', '17'} are eliminated.\n",
      "Confirmed:   NEN  8:\u001b[30m Candidate 15 cannot be eliminated next when set() are eliminated.\n",
      "Confirmed:   NEN  9:\u001b[30m Candidate 18 cannot be eliminated next when {'15'} are eliminated.\n",
      "Confirmed:   NEN 10:\u001b[30m Candidate 15 cannot be eliminated next when {'18'} are eliminated.\n"
     ]
    }
   ],
   "source": [
    "printAssertions(WOLosers,IRVElims)"
   ]
  },
  {
   "cell_type": "markdown",
   "metadata": {},
   "source": [
    "Now the audit begins! We now apply a Risk Limiting Audit to test each of the assertions above.\n",
    "For each assertion, we consider the opposite hypothesis, that candidate C *can* be eliminated at that point. We then try to audit until that hypothesis can be rejected.  If all the hypotheses are rejected, the election result is declared correct.  At any time, if the audit has failed to reject all the hypotheses, a full manual recount can be conducted.\n"
   ]
  }
 ],
 "metadata": {
  "kernelspec": {
   "display_name": "Python 3",
   "language": "python",
   "name": "python3"
  },
  "language_info": {
   "codemirror_mode": {
    "name": "ipython",
    "version": 3
   },
   "file_extension": ".py",
   "mimetype": "text/x-python",
   "name": "python",
   "nbconvert_exporter": "python",
   "pygments_lexer": "ipython3",
   "version": "3.6.7"
  }
 },
 "nbformat": 4,
 "nbformat_minor": 2
}
