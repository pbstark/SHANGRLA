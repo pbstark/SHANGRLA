{
 "cells": [
  {
   "cell_type": "code",
   "execution_count": null,
   "metadata": {
    "jupyter": {
     "source_hidden": true
    }
   },
   "outputs": [],
   "source": [
    "import svgling\n",
    "from svgling.figure import Caption, SideBySide, RowByRow"
   ]
  },
  {
   "cell_type": "markdown",
   "metadata": {},
   "source": [
    "# RAIRE example assertions\n",
    "\n",
    "This notebook provides a simple example of the kinds of assertions RAIRE might derive.\n",
    "Suppose we have the following IRV CVRs:\n",
    "- 10 votes list (Alpine, Beach, Canyon)\n",
    "- 10 votes list (Alpine, Beach, Desert)\n",
    "- 25 votes list (Beach)\n",
    "- 6  votes list (Canyon, Alpine, Beach)\n",
    "- 4  votes list (Desert, Alpine, Beach)\n",
    "The apparent winner is Alpine, with apparent elimination order Desert, Canyon, Beach, (Alpine), shown below in red.\n",
    "The audit needs to exclude all the other possible winners, though we don't care about other elimination orders in which Alpine wins.  To see how this works, click in each python box (including the import box above) and press shift-enter, working down the page."
   ]
  },
  {
   "cell_type": "code",
   "execution_count": null,
   "metadata": {
    "jupyter": {
     "source_hidden": true
    }
   },
   "outputs": [],
   "source": [
    "qrtree0 = (\"Alpine\", (\"Beach\", (\"Canyon\", \"Desert\"), (\"Desert\", \"Canyon\")),(\"Canyon\", (\"Beach\", \"Desert\"), (\"Desert\", \"Beach\")),(\"Desert\", (\"Beach\", \"Canyon\"), (\"Canyon\", \"Beach\")))\n",
    "out0 = svgling.draw_tree(qrtree0)\n",
    "out0.set_edge_style((0,), svgling.core.EdgeStyle(stroke_width=4, stroke=\"red\"))\n",
    "out0.set_edge_style((0,0), svgling.core.EdgeStyle(stroke_width=4, stroke=\"red\"))\n",
    "out0.set_edge_style((0,0,0), svgling.core.EdgeStyle(stroke_width=4, stroke=\"red\"))\n",
    "out0 = Caption(out0, \"All the different elimination orders in which Alpine wins.\")\n",
    "\n",
    "qrtree1 = (\"Beach\", (\"Alpine\", (\"Canyon\", \"Desert\"), (\"Desert\", \"Canyon\")),(\"Canyon\", (\"Alpine\", \"Desert\"), (\"Desert\", \"Alpine\")),(\"Desert\", (\"Alpine\", \"Canyon\"), (\"Canyon\", \"Alpine\")))\n",
    "out1 = svgling.draw_tree(qrtree1)\n",
    "out1 = Caption(out1, \"All the different elimination orders in which Beach wins.\")\n",
    "\n",
    "qrtree2 = (\"Canyon\", (\"Alpine\", (\"Beach\", \"Desert\"), (\"Desert\", \"Beach\")),(\"Beach\", (\"Alpine\", \"Desert\"), (\"Desert\", \"Alpine\")),(\"Desert\", (\"Alpine\", \"Beach\"), (\"Beach\", \"Alpine\")))\n",
    "out2 = svgling.draw_tree(qrtree2)\n",
    "out2 = Caption(out2, \"All the different elimination orders in which Canyon wins.\")\n",
    "\n",
    "qrtree3 = (\"Desert\", (\"Alpine\", (\"Beach\", \"Canyon\"), (\"Canyon\", \"Beach\")),(\"Beach\", (\"Alpine\", \"Canyon\"), (\"Canyon\", \"Alpine\")),(\"Canyon\", (\"Alpine\", \"Beach\"), (\"Beach\", \"Alpine\")))\n",
    "out3 = svgling.draw_tree(qrtree3)\n",
    "out3 = Caption(out3, \"All the different elimination orders in which Desert wins.\")\n",
    "\n",
    "Caption(RowByRow(SideBySide(out3, out2), SideBySide(out1,out0)), \"Trees illustrating all the possible elimination orders in a 4-candidate IRV election.\")"
   ]
  },
  {
   "cell_type": "markdown",
   "metadata": {},
   "source": [
    "From now on we disregard the tree in which Alpine wins, and try to exclude all the others.  First consider Winner-only (WO) comparison between Alpine and Canyon - WO(Canyon,Alpine).  Canyon has only 6 mentions (not counting votes that prefer Alpine).  That's less than Alpine's first preference count of 20.  So Alpine cannot be eliminated before Canyon."
   ]
  },
  {
   "cell_type": "code",
   "execution_count": null,
   "metadata": {
    "jupyter": {
     "source_hidden": true
    }
   },
   "outputs": [],
   "source": [
    "qrtree1 = (\"Beach\", (\"Alpine\", (\"Canyon\", \"Desert\"), (\"Desert\", \"Canyon\")),\"Canyon\",(\"Desert\", (\"Alpine\", \"Canyon\"), \"Canyon\"))\n",
    "out1 = svgling.draw_tree(qrtree1)\n",
    "out1.box_constituent((1,),fill=\"green\")\n",
    "out1.box_constituent((2,1),fill=\"green\")\n",
    "out1 = Caption(out1, \"All the different elimination orders in which Beach wins.\")\n",
    "\n",
    "qrtree2 = (\"Canyon\")\n",
    "out2 = svgling.draw_tree(qrtree2)\n",
    "out2.box_constituent((),fill=\"green\")\n",
    "out2 = Caption(out2, \"Exclude all elimination orders in which Canyon wins.\")\n",
    "\n",
    "qrtree3 = (\"Desert\", (\"Alpine\", (\"Beach\", \"Canyon\"), (\"Canyon\", \"Beach\")),(\"Beach\", (\"Alpine\", \"Canyon\"),\"Canyon\"),\"Canyon\")\n",
    "out3 = svgling.draw_tree(qrtree3)\n",
    "out3.box_constituent((2,),fill=\"green\")\n",
    "out3.box_constituent((1,1),fill=\"green\")\n",
    "out3 = Caption(out3, \"All the different elimination orders in which Desert wins.\")\n",
    "\n",
    "Caption(RowByRow(SideBySide(out3, out2), out1), \"Green pruned subtrees excluded by WO(Canyon, Alpine).  Alpine can't be eliminated before Canyon\")"
   ]
  },
  {
   "cell_type": "markdown",
   "metadata": {},
   "source": [
    "Now consider Winner-only (WO) comparison between Alpine and Desert - WO(Desert,Alpine).  Desert has only 4 mentions (not counting votes that prefer Alpine).  That's less than Alpine's first preference count of 20.  So Alpine cannot be eliminated before Desert."
   ]
  },
  {
   "cell_type": "code",
   "execution_count": null,
   "metadata": {
    "jupyter": {
     "source_hidden": true
    }
   },
   "outputs": [],
   "source": [
    "qrtree1 = (\"Beach\", (\"Alpine\", (\"Canyon\", \"Desert\"), (\"Desert\", \"Canyon\")),\"Canyon\",\"Desert\")\n",
    "out1 = svgling.draw_tree(qrtree1)\n",
    "out1.box_constituent((1,),fill=\"green\")\n",
    "out1.box_constituent((2,),fill=\"blue\")\n",
    "out1 = Caption(out1, \"All the different elimination orders in which Beach wins.\")\n",
    "\n",
    "qrtree2 = (\"Canyon\")\n",
    "out2 = svgling.draw_tree(qrtree2)\n",
    "out2.box_constituent((),fill=\"green\")\n",
    "out2 = Caption(out2, \"Exclude all elimination orders in which Canyon wins.\")\n",
    "\n",
    "qrtree3 = (\"Desert\")\n",
    "out3 = svgling.draw_tree(qrtree3)\n",
    "out3.box_constituent((),fill=\"blue\")\n",
    "out3 = Caption(out3, \"Exclude all elimination orders in which Desert wins.\")\n",
    "\n",
    "Caption(RowByRow(SideBySide(out3, out2), out1), \"Green pruned blue trees excluded by WO(Canyon, Alpine) and blue for WO(Desert, Alpine).  Alpine can't be eliminated before Canyon or Desert\")"
   ]
  },
  {
   "cell_type": "markdown",
   "metadata": {},
   "source": [
    "Finally, WO(Beach,Alpine) doesn't work, because Beach has 25 mentions.  We need to test the last IRV round and compare only Beach, Alpine. This is written as IRV(Beach, Alpine, {Alpine})."
   ]
  },
  {
   "cell_type": "code",
   "execution_count": null,
   "metadata": {
    "jupyter": {
     "source_hidden": true
    }
   },
   "outputs": [],
   "source": [
    "qrtree1 = (\"Beach\",\"Alpine\",\"Canyon\",\"Desert\")\n",
    "out1 = svgling.draw_tree(qrtree1)\n",
    "out1.box_constituent((0,),fill=\"none\",stroke_width=4, stroke=\"purple\")\n",
    "out1.box_constituent((1,),fill=\"green\")\n",
    "out1.box_constituent((2,),fill=\"blue\")\n",
    "out1 = Caption(out1, \"Exclude all elimination orders in which Beach wins.\")\n",
    "\n",
    "qrtree2 = (\"Canyon\")\n",
    "out2 = svgling.draw_tree(qrtree2)\n",
    "out2.box_constituent((),fill=\"green\")\n",
    "out2 = Caption(out2, \"Exclude all elimination orders in which Canyon wins.\")\n",
    "\n",
    "qrtree3 = (\"Desert\")\n",
    "out3 = svgling.draw_tree(qrtree3)\n",
    "out3.box_constituent((),fill=\"blue\")\n",
    "out3 = Caption(out3, \"Exclude all elimination orders in which Desert wins.\")\n",
    "\n",
    "Caption(RowByRow(SideBySide(out3, out2), out1), \"Complete exclusion of all cases in which Alpine doesn't win.  IRV(Beach,Alpine,{Alpine}) is shown as a purple box.\")"
   ]
  },
  {
   "cell_type": "markdown",
   "metadata": {},
   "source": [
    "Now the auditing begins!  We use Risk Limiting Audits to test all three assertions: WO(Canyon,Alpine), WO(Desert,Alpine) and IRV(Beach, Alpine, {Alpine}) simultaneously."
   ]
  },
  {
   "cell_type": "code",
   "execution_count": null,
   "metadata": {
    "jupyter": {
     "source_hidden": true
    }
   },
   "outputs": [],
   "source": []
  }
 ],
 "metadata": {
  "kernelspec": {
   "display_name": "Python 3 (ipykernel)",
   "language": "python",
   "name": "python3"
  },
  "language_info": {
   "codemirror_mode": {
    "name": "ipython",
    "version": 3
   },
   "file_extension": ".py",
   "mimetype": "text/x-python",
   "name": "python",
   "nbconvert_exporter": "python",
   "pygments_lexer": "ipython3",
   "version": "3.12.3"
  }
 },
 "nbformat": 4,
 "nbformat_minor": 4
}
