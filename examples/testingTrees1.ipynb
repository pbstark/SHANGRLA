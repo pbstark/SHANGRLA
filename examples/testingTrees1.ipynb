# VT: Note: not a proper notebook, just a collection of scraps that compile when pasted in to 
# a Jupyter notebook running the gallery at https://github.com/rawlins/svgling/blob/master/svgling%20Gallery.ipynb


import svgling
from svgling.figure import Caption, SideBySide, RowByRow

# Nice rendering of all possible elimination orders, with announced elimination order in red.

qrtree0 = ("Alpine", ("Beach", ("Canyon", "Desert"), ("Desert", "Canyon")),("Canyon", ("Beach", "Desert"), ("Desert", "Beach")),("Desert", ("Beach", "Canyon"), ("Canyon", "Beach")))
out0 = svgling.draw_tree(qrtree0)
out0.set_edge_style((0,), svgling.core.EdgeStyle(stroke_width=4, stroke="red"))
out0.set_edge_style((0,0), svgling.core.EdgeStyle(stroke_width=4, stroke="red"))
out0.set_edge_style((0,0,0), svgling.core.EdgeStyle(stroke_width=4, stroke="red"))
out0 = Caption(out0, "All the different elimination orders in which Alpine wins.")

qrtree1 = ("Beach", ("Alpine", ("Canyon", "Desert"), ("Desert", "Canyon")),("Canyon", ("Alpine", "Desert"), ("Desert", "Alpine")),("Desert", ("Alpine", "Canyon"), ("Canyon", "Alpine")))
out1 = svgling.draw_tree(qrtree1)
out1 = Caption(out1, "All the different elimination orders in which Beach wins,"+"\\n"+"highlighting cases when Canyon is eliminated before Alpine.")

qrtree2 = ("Canyon", ("Alpine", ("Beach", "Desert"), ("Desert", "Beach")),("Beach", ("Alpine", "Desert"), ("Desert", "Alpine")),("Desert", ("Alpine", "Beach"), ("Beach", "Alpine")))
out2 = svgling.draw_tree(qrtree2)
out2 = Caption(out2, "All the different elimination orders in which Canyon wins.")

qrtree3 = ("Desert", ("Alpine", ("Beach", "Canyon"), ("Canyon", "Beach")),("Beach", ("Alpine", "Canyon"), ("Canyon", "Alpine")),("Canyon", ("Alpine", "Beach"), ("Beach", "Alpine")))
out3 = svgling.draw_tree(qrtree3)
out3 = Caption(out3, "All the different elimination orders in which Desert wins.")

Caption(RowByRow(SideBySide(out0, out1), SideBySide(out2,out3)), "Trees illustrating all the possible elimination orders in a 4-candidate IRV election.")

# Now we want to explain what's eliminated by a WO(Canyon, Alpine)

qrtree0 = ("Alpine", ("Beach", ("Canyon", "Desert"), ("Desert", "Canyon")),("Canyon", ("Beach", "Desert"), ("Desert", "Beach")),("Desert", ("Beach", "Canyon"), ("Canyon", "Beach")))
out0 = svgling.draw_tree(qrtree0)
out0.set_edge_style((0,), svgling.core.EdgeStyle(stroke_width=4, stroke="red"))
out0.set_edge_style((0,0), svgling.core.EdgeStyle(stroke_width=4, stroke="red"))
out0.set_edge_style((0,0,0), svgling.core.EdgeStyle(stroke_width=4, stroke="red"))
out0 = Caption(out0, "All the different elimination orders in which Alpine wins.")

qrtree1 = ("Beach", ("Alpine", ("Canyon", "Desert"), ("Desert", "Canyon")),("Canyon", ("Alpine", "Desert"), ("Desert", "Alpine")),("Desert", ("Alpine", "Canyon"), ("Canyon", "Alpine")))
out1 = svgling.draw_tree(qrtree1)
out1.box_constituent((1,))
out1.box_constituent((2,1))
out1 = Caption(out1, "All the different elimination orders in which Beach wins,"+"\\n"+"highlighting cases when Canyon is eliminated before Alpine.")

qrtree2 = ("Canyon", ("Alpine", ("Beach", "Desert"), ("Desert", "Beach")),("Beach", ("Alpine", "Desert"), ("Desert", "Alpine")),("Desert", ("Alpine", "Beach"), ("Beach", "Alpine")))
out2 = svgling.draw_tree(qrtree2)
out2.box_constituent(())
out2 = Caption(out2, "All the different elimination orders in which Canyon wins.")

qrtree3 = ("Desert", ("Alpine", ("Beach", "Canyon"), ("Canyon", "Beach")),("Beach", ("Alpine", "Canyon"), ("Canyon", "Alpine")),("Canyon", ("Alpine", "Beach"), ("Beach", "Alpine")))
out3 = svgling.draw_tree(qrtree3)
out3.box_constituent((2,))
out3.box_constituent((1,1))
out3 = Caption(out3, "All the different elimination orders in which Desert wins.")

Caption(RowByRow(SideBySide(out0, out1), SideBySide(out2,out3)), "Greyed-out trees excluded by WO(Canyon, Alpine).  Alpine can't be eliminated before Canyon")


# Now add the ones eliminated by WO(Desert, Alpine)

qrtree0 = ("Alpine", ("Beach", ("Canyon", "Desert"), ("Desert", "Canyon")),("Canyon", ("Beach", "Desert"), ("Desert", "Beach")),("Desert", ("Beach", "Canyon"), ("Canyon", "Beach")))
out0 = svgling.draw_tree(qrtree0)
out0.set_edge_style((0,), svgling.core.EdgeStyle(stroke_width=4, stroke="red"))
out0.set_edge_style((0,0), svgling.core.EdgeStyle(stroke_width=4, stroke="red"))
out0.set_edge_style((0,0,0), svgling.core.EdgeStyle(stroke_width=4, stroke="red"))
out0 = Caption(out0, "All the different elimination orders in which Alpine wins.")

qrtree1 = ("Beach", ("Alpine", ("Canyon", "Desert"), ("Desert", "Canyon")),("Canyon", ("Alpine", "Desert"), ("Desert", "Alpine")),("Desert", ("Alpine", "Canyon"), ("Canyon", "Alpine")))
out1 = svgling.draw_tree(qrtree1)
out1.box_constituent((1,))
out1.box_constituent((2,1))
out1.box_constituent((2,))
out1.box_constituent((1,1))
out1 = Caption(out1, "All the different elimination orders in which Beach wins,"+"\\n"+"highlighting cases when Canyon is eliminated before Alpine.")

qrtree2 = ("Canyon", ("Alpine", ("Beach", "Desert"), ("Desert", "Beach")),("Beach", ("Alpine", "Desert"), ("Desert", "Alpine")),("Desert", ("Alpine", "Beach"), ("Beach", "Alpine")))
out2 = svgling.draw_tree(qrtree2)
out2.box_constituent(())
out2 = Caption(out2, "All the different elimination orders in which Canyon wins.")

qrtree3 = ("Desert", ("Alpine", ("Beach", "Canyon"), ("Canyon", "Beach")),("Beach", ("Alpine", "Canyon"), ("Canyon", "Alpine")),("Canyon", ("Alpine", "Beach"), ("Beach", "Alpine")))
out3 = svgling.draw_tree(qrtree3)
out3.box_constituent(())
out3.box_constituent((2,))
out3.box_constituent((1,1))
out3 = Caption(out3, "All the different elimination orders in which Desert wins.")

Caption(RowByRow(SideBySide(out0, out1), SideBySide(out2,out3)), "Greyed-out trees excluded by WO(Canyon, Alpine) and WO(Desert, Alpine).  Alpine can't be eliminated before Canyon or Desert")

# Now explain that we have a problem because WO(Beach, Alpine) isn't true.  Now we need to test IRV(Beach, Alpine, {Alpine}), 
# the hypothesis that Beach beats Alpine when each ballot is counted towards the highest-ranked candidate among {Beach, Alpine}.
# If this is false, we can then exclude the last branch in which Beach could possibly win.

qrtree0 = ("Alpine", ("Beach", ("Canyon", "Desert"), ("Desert", "Canyon")),("Canyon", ("Beach", "Desert"), ("Desert", "Beach")),("Desert", ("Beach", "Canyon"), ("Canyon", "Beach")))
out0 = svgling.draw_tree(qrtree0)
out0.set_edge_style((0,), svgling.core.EdgeStyle(stroke_width=4, stroke="red"))
out0.set_edge_style((0,0), svgling.core.EdgeStyle(stroke_width=4, stroke="red"))
out0.set_edge_style((0,0,0), svgling.core.EdgeStyle(stroke_width=4, stroke="red"))
out0 = Caption(out0, "All the different elimination orders in which Alpine wins.")

qrtree1 = ("Beach", ("Alpine", ("Canyon", "Desert"), ("Desert", "Canyon")),("Canyon", ("Alpine", "Desert"), ("Desert", "Alpine")),("Desert", ("Alpine", "Canyon"), ("Canyon", "Alpine")))
out1 = svgling.draw_tree(qrtree1)
out1.box_constituent((0,),fill="blue")
out1.box_constituent((1,))
out1.box_constituent((2,1))
out1.box_constituent((2,))
out1.box_constituent((1,1))
out1 = Caption(out1, "All the different elimination orders in which Beach wins,"+"\\n"+"highlighting cases when Canyon is eliminated before Alpine.")

qrtree2 = ("Canyon", ("Alpine", ("Beach", "Desert"), ("Desert", "Beach")),("Beach", ("Alpine", "Desert"), ("Desert", "Alpine")),("Desert", ("Alpine", "Beach"), ("Beach", "Alpine")))
out2 = svgling.draw_tree(qrtree2)
out2.box_constituent(())
out2 = Caption(out2, "All the different elimination orders in which Canyon wins.")

qrtree3 = ("Desert", ("Alpine", ("Beach", "Canyon"), ("Canyon", "Beach")),("Beach", ("Alpine", "Canyon"), ("Canyon", "Alpine")),("Canyon", ("Alpine", "Beach"), ("Beach", "Alpine")))
out3 = svgling.draw_tree(qrtree3)
out3.box_constituent(())
out3.box_constituent((2,))
out3.box_constituent((1,1))
out3 = Caption(out3, "All the different elimination orders in which Desert wins.")

Caption(RowByRow(SideBySide(out0, out1), SideBySide(out2,out3)), "Blue subtree excluded by IRV(Beach, Alpine, {Alpine}).  When only Beach and Alpine remain, Beach loses.  This completes the exclusion of all elimination orders in which Alpine doesn't win.")

