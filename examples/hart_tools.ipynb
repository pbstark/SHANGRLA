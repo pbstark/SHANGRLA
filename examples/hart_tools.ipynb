{
 "cells": [
  {
   "cell_type": "code",
   "execution_count": 1,
   "metadata": {},
   "outputs": [],
   "source": [
    "from hart_tools import (\n",
    "    prep_manifest,\n",
    "    read_hart_cvr, \n",
    "    read_cvrs, \n",
    "    check_for_contest,\n",
    "    filter_cvr_contest,\n",
    "    tabulate_styles\n",
    ")\n",
    "\n",
    "from IPython.core.interactiveshell import InteractiveShell\n",
    "\n",
    "from assertion_audit_utils import \\\n",
    "    Assertion, Assorter, CVR, TestNonnegMean, check_audit_parameters, find_margins,\\\n",
    "    find_p_values, find_sample_size, new_sample_size, summarize_status,\\\n",
    "    write_audit_parameters, sort_cvr_sample_num, consistent_sampling\n",
    "\n",
    "import os\n",
    "import io\n",
    "import re\n",
    "import numpy as np\n",
    "import math\n",
    "import csv\n",
    "import pandas as pd\n",
    "import warnings\n",
    "import copy\n",
    "import xml.etree.ElementTree as ET\n",
    "import xml.dom.minidom\n",
    "import cryptorandom\n",
    "from cryptorandom.cryptorandom import SHA256, int_from_hash_py3, int_from_hash\n",
    "#from pandas.io.parsers import ParserError"
   ]
  },
  {
   "cell_type": "code",
   "execution_count": 2,
   "metadata": {},
   "outputs": [],
   "source": [
    "# parse XMLs\n",
    "cvr_list = read_cvrs(cvr_folder = \"Data/hart/OC2021/oc_cvrs_for_testing_v2\")"
   ]
  },
  {
   "cell_type": "code",
   "execution_count": 3,
   "metadata": {},
   "outputs": [
    {
     "data": {
      "text/plain": [
       "True"
      ]
     },
     "execution_count": 3,
     "metadata": {},
     "output_type": "execute_result"
    }
   ],
   "source": [
    "# assign random sample nums to all CVRs\n",
    "CVR.assign_sample_nums(cvr_list, prng=SHA256(32))"
   ]
  },
  {
   "cell_type": "code",
   "execution_count": 4,
   "metadata": {},
   "outputs": [
    {
     "data": {
      "text/plain": [
       "True"
      ]
     },
     "execution_count": 4,
     "metadata": {},
     "output_type": "execute_result"
    }
   ],
   "source": [
    "sort_cvr_sample_num(cvr_list)"
   ]
  },
  {
   "cell_type": "code",
   "execution_count": 5,
   "metadata": {},
   "outputs": [
    {
     "data": {
      "text/plain": [
       "[0.2251359480598143,\n",
       " 1.4634438778906222,\n",
       " 1.6903930211582798,\n",
       " 3.7641573363644016,\n",
       " 4.3584788139091595,\n",
       " 6.621239707455629,\n",
       " 8.371248423455292,\n",
       " 9.038615680692303,\n",
       " 11.07705760395957]"
      ]
     },
     "execution_count": 5,
     "metadata": {},
     "output_type": "execute_result"
    }
   ],
   "source": [
    "[cvr.sample_num / 10**76 for cvr in cvr_list]"
   ]
  },
  {
   "cell_type": "code",
   "execution_count": 6,
   "metadata": {},
   "outputs": [],
   "source": [
    "sampled_cvrs = consistent_sampling(cvr_list, \n",
    "                    sample_size_dict = {'Proportion 17' : 2,\n",
    "                                       'Proposition 20' : 3},\n",
    "                    sampled_cvrs = []\n",
    "                   )"
   ]
  },
  {
   "cell_type": "code",
   "execution_count": 7,
   "metadata": {},
   "outputs": [
    {
     "name": "stdout",
     "output_type": "stream",
     "text": [
      "0.2251359480598143\n",
      "1.4634438778906222\n",
      "3.7641573363644016\n"
     ]
    }
   ],
   "source": [
    "print(sampled_cvrs[0].sample_num / 10**76)\n",
    "print(sampled_cvrs[1].sample_num / 10**76)\n",
    "print(sampled_cvrs[2].sample_num / 10**76)"
   ]
  },
  {
   "cell_type": "code",
   "execution_count": 8,
   "metadata": {},
   "outputs": [
    {
     "data": {
      "text/plain": [
       "{'Proposition 24': {'Yes': True}, 'Proposition 25': {'Yes': True}}"
      ]
     },
     "execution_count": 8,
     "metadata": {},
     "output_type": "execute_result"
    }
   ],
   "source": [
    "cvr_list[2].votes"
   ]
  },
  {
   "cell_type": "code",
   "execution_count": 15,
   "metadata": {},
   "outputs": [
    {
     "name": "stdout",
     "output_type": "stream",
     "text": [
      "{'PRESIDENT AND VICE PRESIDENT': {'JOSEPH R. BIDEN\\nKAMALA D. HARRIS': True}, 'UNITED STATES REPRESENTATIVE\\n48th District': {'HARLEY ROUDA': True}, 'MEMBER OF THE STATE ASSEMBLY\\n72nd District': {'JANET NGUYEN': True}, 'RANCHO SANTIAGO COMMUNITY COLLEGE DISTRICT\\nGoverning Board Member,\\nTrustee Area 5': {'BRETT ELLIOTT FRANKLIN': True}, 'County Supervisor, 1st District': {'SERGIO CONTRERAS': True}, 'CITY OF SANTA ANA\\nMayor': {'JOSE SOLORIO': True}, 'CITY OF SANTA ANA\\nMember, City Council, Ward 1': {'CYNTHIA CONTRERAS': True}, 'Proposition 14': {'Yes': True}, 'Proposition 15': {'Yes': True}, 'Proposition 16': {'No': True}, 'Proposition 17': {'Yes': True}, 'Proposition 18': {'Yes': True}, 'Proposition 19': {'Yes': True}, 'Proposition 20': {'No': True}}\n",
      "109_1\n",
      "False\n",
      "90386156806923029215443444739281896702112175362115299667967653824984627439082\n",
      "None\n"
     ]
    }
   ],
   "source": [
    "# print out CVR attributes\n",
    "print(cvr_list[0].votes)\n",
    "print(cvr_list[0].id)\n",
    "print(cvr_list[0].phantom)\n",
    "print(cvr_list[0].sample_num)\n",
    "print(cvr_list[0].p)"
   ]
  },
  {
   "cell_type": "code",
   "execution_count": 3,
   "metadata": {},
   "outputs": [
    {
     "data": {
      "text/html": [
       "<div>\n",
       "<style scoped>\n",
       "    .dataframe tbody tr th:only-of-type {\n",
       "        vertical-align: middle;\n",
       "    }\n",
       "\n",
       "    .dataframe tbody tr th {\n",
       "        vertical-align: top;\n",
       "    }\n",
       "\n",
       "    .dataframe thead th {\n",
       "        text-align: right;\n",
       "    }\n",
       "</style>\n",
       "<table border=\"1\" class=\"dataframe\">\n",
       "  <thead>\n",
       "    <tr style=\"text-align: right;\">\n",
       "      <th></th>\n",
       "      <th>Container</th>\n",
       "      <th>Tabulator</th>\n",
       "      <th>Batch Name</th>\n",
       "      <th>Number of Ballots</th>\n",
       "    </tr>\n",
       "  </thead>\n",
       "  <tbody>\n",
       "    <tr>\n",
       "      <th>0</th>\n",
       "      <td>Mail</td>\n",
       "      <td>1</td>\n",
       "      <td>1</td>\n",
       "      <td>60</td>\n",
       "    </tr>\n",
       "    <tr>\n",
       "      <th>1</th>\n",
       "      <td>Mail</td>\n",
       "      <td>1</td>\n",
       "      <td>2</td>\n",
       "      <td>21</td>\n",
       "    </tr>\n",
       "    <tr>\n",
       "      <th>2</th>\n",
       "      <td>Mail</td>\n",
       "      <td>1</td>\n",
       "      <td>3</td>\n",
       "      <td>123</td>\n",
       "    </tr>\n",
       "    <tr>\n",
       "      <th>3</th>\n",
       "      <td>Mail</td>\n",
       "      <td>1</td>\n",
       "      <td>4</td>\n",
       "      <td>59</td>\n",
       "    </tr>\n",
       "    <tr>\n",
       "      <th>4</th>\n",
       "      <td>Mail</td>\n",
       "      <td>1</td>\n",
       "      <td>5</td>\n",
       "      <td>87</td>\n",
       "    </tr>\n",
       "  </tbody>\n",
       "</table>\n",
       "</div>"
      ],
      "text/plain": [
       "  Container Tabulator Batch Name  Number of Ballots\n",
       "0      Mail         1          1                 60\n",
       "1      Mail         1          2                 21\n",
       "2      Mail         1          3                123\n",
       "3      Mail         1          4                 59\n",
       "4      Mail         1          5                 87"
      ]
     },
     "execution_count": 3,
     "metadata": {},
     "output_type": "execute_result"
    }
   ],
   "source": [
    "# read in manifest\n",
    "manifest = pd.read_csv(\"manifest-CARCL2021.csv\")\n",
    "manifest.head()"
   ]
  },
  {
   "cell_type": "code",
   "execution_count": 11,
   "metadata": {},
   "outputs": [],
   "source": [
    "assertions = Assertion.make_all_assertions(contests)"
   ]
  },
  {
   "cell_type": "code",
   "execution_count": 14,
   "metadata": {},
   "outputs": [
    {
     "ename": "AttributeError",
     "evalue": "'list' object has no attribute 'votes'",
     "output_type": "error",
     "traceback": [
      "\u001b[0;31m---------------------------------------------------------------------------\u001b[0m",
      "\u001b[0;31mAttributeError\u001b[0m                            Traceback (most recent call last)",
      "\u001b[0;32m<ipython-input-14-a687a706e71b>\u001b[0m in \u001b[0;36m<module>\u001b[0;34m()\u001b[0m\n\u001b[0;32m----> 1\u001b[0;31m \u001b[0mfind_margins\u001b[0m\u001b[0;34m(\u001b[0m\u001b[0mcontests\u001b[0m\u001b[0;34m,\u001b[0m \u001b[0massertions\u001b[0m\u001b[0;34m,\u001b[0m \u001b[0mcvr_list\u001b[0m\u001b[0;34m)\u001b[0m\u001b[0;34m\u001b[0m\u001b[0m\n\u001b[0m",
      "\u001b[0;32m~/Dropbox/RLAs/Orange County Audit/assertion_audit_utils.py\u001b[0m in \u001b[0;36mfind_margins\u001b[0;34m(contests, assertions, cvr_list)\u001b[0m\n\u001b[1;32m   1246\u001b[0m         \u001b[0;32mfor\u001b[0m \u001b[0masrtn\u001b[0m \u001b[0;32min\u001b[0m \u001b[0massertions\u001b[0m\u001b[0;34m[\u001b[0m\u001b[0mc\u001b[0m\u001b[0;34m]\u001b[0m\u001b[0;34m:\u001b[0m\u001b[0;34m\u001b[0m\u001b[0m\n\u001b[1;32m   1247\u001b[0m             \u001b[0;31m# find mean of the assertion for the CVRs\u001b[0m\u001b[0;34m\u001b[0m\u001b[0;34m\u001b[0m\u001b[0m\n\u001b[0;32m-> 1248\u001b[0;31m             \u001b[0mamean\u001b[0m \u001b[0;34m=\u001b[0m \u001b[0massertions\u001b[0m\u001b[0;34m[\u001b[0m\u001b[0mc\u001b[0m\u001b[0;34m]\u001b[0m\u001b[0;34m[\u001b[0m\u001b[0masrtn\u001b[0m\u001b[0;34m]\u001b[0m\u001b[0;34m.\u001b[0m\u001b[0massorter_mean\u001b[0m\u001b[0;34m(\u001b[0m\u001b[0mcvr_list\u001b[0m\u001b[0;34m)\u001b[0m\u001b[0;34m\u001b[0m\u001b[0m\n\u001b[0m\u001b[1;32m   1249\u001b[0m             \u001b[0;32mif\u001b[0m \u001b[0mamean\u001b[0m \u001b[0;34m<\u001b[0m \u001b[0;36m1\u001b[0m\u001b[0;34m/\u001b[0m\u001b[0;36m2\u001b[0m\u001b[0;34m:\u001b[0m\u001b[0;34m\u001b[0m\u001b[0m\n\u001b[1;32m   1250\u001b[0m                 \u001b[0mwarn\u001b[0m\u001b[0;34m(\u001b[0m\u001b[0;34m\"assertion {} not satisfied by CVRs: mean value is {}\"\u001b[0m\u001b[0;34m.\u001b[0m\u001b[0mformat\u001b[0m\u001b[0;34m(\u001b[0m\u001b[0masrtn\u001b[0m\u001b[0;34m,\u001b[0m \u001b[0mamean\u001b[0m\u001b[0;34m)\u001b[0m\u001b[0;34m)\u001b[0m\u001b[0;34m\u001b[0m\u001b[0m\n",
      "\u001b[0;32m~/Dropbox/RLAs/Orange County Audit/assertion_audit_utils.py\u001b[0m in \u001b[0;36massorter_mean\u001b[0;34m(self, cvr_list)\u001b[0m\n\u001b[1;32m     86\u001b[0m             \u001b[0mthe\u001b[0m \u001b[0mmean\u001b[0m \u001b[0mvalue\u001b[0m \u001b[0mof\u001b[0m \u001b[0mthe\u001b[0m \u001b[0massorter\u001b[0m \u001b[0mover\u001b[0m \u001b[0mthe\u001b[0m \u001b[0mlist\u001b[0m \u001b[0mof\u001b[0m \u001b[0mcvrs\u001b[0m\u001b[0;34m\u001b[0m\u001b[0m\n\u001b[1;32m     87\u001b[0m         '''\n\u001b[0;32m---> 88\u001b[0;31m         \u001b[0;32mreturn\u001b[0m \u001b[0mnp\u001b[0m\u001b[0;34m.\u001b[0m\u001b[0mmean\u001b[0m\u001b[0;34m(\u001b[0m\u001b[0;34m[\u001b[0m\u001b[0mself\u001b[0m\u001b[0;34m.\u001b[0m\u001b[0massorter\u001b[0m\u001b[0;34m.\u001b[0m\u001b[0massort\u001b[0m\u001b[0;34m(\u001b[0m\u001b[0mc\u001b[0m\u001b[0;34m)\u001b[0m \u001b[0;32mfor\u001b[0m \u001b[0mc\u001b[0m \u001b[0;32min\u001b[0m \u001b[0mcvr_list\u001b[0m\u001b[0;34m]\u001b[0m\u001b[0;34m)\u001b[0m\u001b[0;34m\u001b[0m\u001b[0m\n\u001b[0m\u001b[1;32m     89\u001b[0m \u001b[0;34m\u001b[0m\u001b[0m\n\u001b[1;32m     90\u001b[0m     \u001b[0;32mdef\u001b[0m \u001b[0massorter_sum\u001b[0m\u001b[0;34m(\u001b[0m\u001b[0mself\u001b[0m\u001b[0;34m,\u001b[0m \u001b[0mcvr_list\u001b[0m\u001b[0;34m)\u001b[0m\u001b[0;34m:\u001b[0m\u001b[0;34m\u001b[0m\u001b[0m\n",
      "\u001b[0;32m~/Dropbox/RLAs/Orange County Audit/assertion_audit_utils.py\u001b[0m in \u001b[0;36m<listcomp>\u001b[0;34m(.0)\u001b[0m\n\u001b[1;32m     86\u001b[0m             \u001b[0mthe\u001b[0m \u001b[0mmean\u001b[0m \u001b[0mvalue\u001b[0m \u001b[0mof\u001b[0m \u001b[0mthe\u001b[0m \u001b[0massorter\u001b[0m \u001b[0mover\u001b[0m \u001b[0mthe\u001b[0m \u001b[0mlist\u001b[0m \u001b[0mof\u001b[0m \u001b[0mcvrs\u001b[0m\u001b[0;34m\u001b[0m\u001b[0m\n\u001b[1;32m     87\u001b[0m         '''\n\u001b[0;32m---> 88\u001b[0;31m         \u001b[0;32mreturn\u001b[0m \u001b[0mnp\u001b[0m\u001b[0;34m.\u001b[0m\u001b[0mmean\u001b[0m\u001b[0;34m(\u001b[0m\u001b[0;34m[\u001b[0m\u001b[0mself\u001b[0m\u001b[0;34m.\u001b[0m\u001b[0massorter\u001b[0m\u001b[0;34m.\u001b[0m\u001b[0massort\u001b[0m\u001b[0;34m(\u001b[0m\u001b[0mc\u001b[0m\u001b[0;34m)\u001b[0m \u001b[0;32mfor\u001b[0m \u001b[0mc\u001b[0m \u001b[0;32min\u001b[0m \u001b[0mcvr_list\u001b[0m\u001b[0;34m]\u001b[0m\u001b[0;34m)\u001b[0m\u001b[0;34m\u001b[0m\u001b[0m\n\u001b[0m\u001b[1;32m     89\u001b[0m \u001b[0;34m\u001b[0m\u001b[0m\n\u001b[1;32m     90\u001b[0m     \u001b[0;32mdef\u001b[0m \u001b[0massorter_sum\u001b[0m\u001b[0;34m(\u001b[0m\u001b[0mself\u001b[0m\u001b[0;34m,\u001b[0m \u001b[0mcvr_list\u001b[0m\u001b[0;34m)\u001b[0m\u001b[0;34m:\u001b[0m\u001b[0;34m\u001b[0m\u001b[0m\n",
      "\u001b[0;32m~/Dropbox/RLAs/Orange County Audit/assertion_audit_utils.py\u001b[0m in \u001b[0;36m<lambda>\u001b[0;34m(c, contest, winr, losr)\u001b[0m\n\u001b[1;32m    225\u001b[0m                                       ( CVR.as_vote(CVR.get_vote_from_cvr(contest, winr, c)) \\\n\u001b[1;32m    226\u001b[0m                                       \u001b[0;34m-\u001b[0m \u001b[0mCVR\u001b[0m\u001b[0;34m.\u001b[0m\u001b[0mas_vote\u001b[0m\u001b[0;34m(\u001b[0m\u001b[0mCVR\u001b[0m\u001b[0;34m.\u001b[0m\u001b[0mget_vote_from_cvr\u001b[0m\u001b[0;34m(\u001b[0m\u001b[0mcontest\u001b[0m\u001b[0;34m,\u001b[0m \u001b[0mlosr\u001b[0m\u001b[0;34m,\u001b[0m \u001b[0mc\u001b[0m\u001b[0;34m)\u001b[0m\u001b[0;34m)\u001b[0m\u001b[0;31m \u001b[0m\u001b[0;31m\\\u001b[0m\u001b[0;34m\u001b[0m\u001b[0m\n\u001b[0;32m--> 227\u001b[0;31m                                       + 1)/2, upper_bound = 1))\n\u001b[0m\u001b[1;32m    228\u001b[0m         \u001b[0;32mreturn\u001b[0m \u001b[0massertions\u001b[0m\u001b[0;34m\u001b[0m\u001b[0m\n\u001b[1;32m    229\u001b[0m \u001b[0;34m\u001b[0m\u001b[0m\n",
      "\u001b[0;32m~/Dropbox/RLAs/Orange County Audit/assertion_audit_utils.py\u001b[0m in \u001b[0;36mget_vote_from_cvr\u001b[0;34m(cls, contest, candidate, cvr)\u001b[0m\n\u001b[1;32m    700\u001b[0m         \u001b[0mvote\u001b[0m\u001b[0;34m\u001b[0m\u001b[0m\n\u001b[1;32m    701\u001b[0m         '''\n\u001b[0;32m--> 702\u001b[0;31m         \u001b[0;32mreturn\u001b[0m \u001b[0;32mFalse\u001b[0m \u001b[0;32mif\u001b[0m \u001b[0;34m(\u001b[0m\u001b[0mcontest\u001b[0m \u001b[0;32mnot\u001b[0m \u001b[0;32min\u001b[0m \u001b[0mcvr\u001b[0m\u001b[0;34m.\u001b[0m\u001b[0mvotes\u001b[0m \u001b[0;32mor\u001b[0m \u001b[0mcandidate\u001b[0m \u001b[0;32mnot\u001b[0m \u001b[0;32min\u001b[0m \u001b[0mcvr\u001b[0m\u001b[0;34m.\u001b[0m\u001b[0mvotes\u001b[0m\u001b[0;34m[\u001b[0m\u001b[0mcontest\u001b[0m\u001b[0;34m]\u001b[0m\u001b[0;34m)\u001b[0m\u001b[0;31m\\\u001b[0m\u001b[0;34m\u001b[0m\u001b[0m\n\u001b[0m\u001b[1;32m    703\u001b[0m                \u001b[0;32melse\u001b[0m \u001b[0mcvr\u001b[0m\u001b[0;34m.\u001b[0m\u001b[0mvotes\u001b[0m\u001b[0;34m[\u001b[0m\u001b[0mcontest\u001b[0m\u001b[0;34m]\u001b[0m\u001b[0;34m[\u001b[0m\u001b[0mcandidate\u001b[0m\u001b[0;34m]\u001b[0m\u001b[0;34m\u001b[0m\u001b[0m\n\u001b[1;32m    704\u001b[0m \u001b[0;34m\u001b[0m\u001b[0m\n",
      "\u001b[0;31mAttributeError\u001b[0m: 'list' object has no attribute 'votes'"
     ]
    }
   ],
   "source": [
    "find_margins(contests, assertions, cvr_list)"
   ]
  },
  {
   "cell_type": "code",
   "execution_count": 6,
   "metadata": {},
   "outputs": [
    {
     "data": {
      "text/plain": [
       "{'AA-City of Orange': 1.0,\n",
       " 'ANAHEIM ELEMENTARY SCHOOL DISTRICT\\nGoverning Board Member,\\nTrustee Area 3': 1.0,\n",
       " 'BB-City of San Clemente': 0.9166666666666666,\n",
       " 'BREA OLINDA UNIFIED SCHOOL DISTRICT\\nGoverning Board Member,\\nTrustee Area 5': 1,\n",
       " 'BUENA PARK LIBRARY DISTRICT\\nTrustee': 1.0,\n",
       " 'BUENA PARK LIBRARY DISTRICTTrustee': 1,\n",
       " 'CAPISTRANO UNIFIED SCHOOL DISTRICT\\nGoverning Board Member,\\nTrustee Area 2': 0.9230769230769231,\n",
       " 'CAPISTRANO UNIFIED SCHOOL DISTRICT\\nGoverning Board Member,\\nTrustee Area 3': 1.0,\n",
       " 'CAPISTRANO UNIFIED SCHOOL DISTRICT\\nGoverning Board Member,\\nTrustee Area 5': 1,\n",
       " 'CC-City of Tustin': 0.6428571428571429,\n",
       " 'CITY OF ALISO VIEJO\\nMember, City Council': 1,\n",
       " 'CITY OF ANAHEIM\\nMember, City Council, District 1': 1.0,\n",
       " 'CITY OF ANAHEIM\\nMember, City Council, District 4': 1.0,\n",
       " 'CITY OF ANAHEIM\\nMember, City Council, District 5': 1.0,\n",
       " 'CITY OF ANAHEIMMember, City Council, District 5': 1,\n",
       " 'CITY OF BREA\\nCity Treasurer': 1.0,\n",
       " 'CITY OF BREA\\nMember, City Council': 1.0,\n",
       " 'CITY OF BUENA PARK\\nMember, City Council, District 4': 1.0,\n",
       " 'CITY OF COSTA MESA\\nMayor': 0.7619047619047619,\n",
       " 'CITY OF COSTA MESA\\nMember, City Council, District 1': 1.0,\n",
       " 'CITY OF COSTA MESA\\nMember, City Council, District 6': 1.0,\n",
       " 'CITY OF COSTA MESA \\nMember, City Council, District 2': 1.0,\n",
       " 'CITY OF CYPRESS\\nMember, City Council': 1,\n",
       " 'CITY OF FOUNTAIN VALLEY\\nMember, City Council': 1.0,\n",
       " 'CITY OF FULLERTON\\nMember, City Council, District 1': 1,\n",
       " 'CITY OF FULLERTON\\nMember, City Council, District 2': 1.0,\n",
       " 'CITY OF FULLERTON\\nMember, City Council, District 4': 1,\n",
       " 'CITY OF GARDEN GROVE\\nMayor': 1.0,\n",
       " 'CITY OF GARDEN GROVE\\nMember, City Council, District 2': 1,\n",
       " 'CITY OF GARDEN GROVE\\nMember, City Council, District 5': 0.8,\n",
       " 'CITY OF GARDEN GROVE\\nMember, City Council, District 6': 1.0,\n",
       " 'CITY OF HUNTINGTON BEACH\\nCity Clerk': 0.625,\n",
       " 'CITY OF HUNTINGTON BEACH\\nCity Treasurer': 0.625,\n",
       " 'CITY OF HUNTINGTON BEACH\\nMember, City Council': 1,\n",
       " 'CITY OF IRVINE\\nMayor': 1.0,\n",
       " 'CITY OF IRVINE\\nMember, City Council': 1.0,\n",
       " 'CITY OF LA HABRA\\nMember, City Council': 1,\n",
       " 'CITY OF LAGUNA BEACH\\nCity Clerk': 1.0,\n",
       " 'CITY OF LAGUNA BEACH\\nCity Treasurer': 1.0,\n",
       " 'CITY OF LAGUNA BEACH\\nMember, City Council': 1.0,\n",
       " 'CITY OF LAGUNA HILLS\\nMember, City Council': 1.0,\n",
       " 'CITY OF LAGUNA NIGUEL\\nMember, City Council': 1.0,\n",
       " 'CITY OF LAKE FOREST\\nMember, City Council, District 1': 1,\n",
       " 'CITY OF LAKE FOREST\\nMember, City Council, District 5': 1,\n",
       " 'CITY OF LOS ALAMITOS\\nMember, City Council, District 1': 1,\n",
       " 'CITY OF LOS ALAMITOS\\nMember, City Council, District 3': 1.0,\n",
       " 'CITY OF MISSION VIEJO\\nMember, City Council,\\nTwo-Year Term': 1.0,\n",
       " 'CITY OF NEWPORT BEACH\\nMember, City Council, District 2': 1,\n",
       " 'CITY OF NEWPORT BEACH\\nMember, City Council, District 5': 0.9130434782608695,\n",
       " 'CITY OF NEWPORT BEACH\\nMember, City Council, District 7': 0.4782608695652174,\n",
       " 'CITY OF ORANGE\\nCity Clerk': 0.3888888888888889,\n",
       " 'CITY OF ORANGE\\nCity Treasurer': 0.3888888888888889,\n",
       " 'CITY OF ORANGE\\nMayor': 1.0,\n",
       " 'CITY OF ORANGE\\nMember, City Council, District 2': 1,\n",
       " 'CITY OF ORANGE\\nMember, City Council, District 3': 1.0,\n",
       " 'CITY OF ORANGE\\nMember, City Council, District 5': 1.0,\n",
       " 'CITY OF PLACENTIA\\nCity Clerk, Short Term': 1.0,\n",
       " 'CITY OF PLACENTIA\\nCity Treasurer': 1.0,\n",
       " 'CITY OF PLACENTIA\\nMember, City Council, District 3': 1.0,\n",
       " 'CITY OF SAN CLEMENTE\\nCity Clerk': 0.9333333333333333,\n",
       " 'CITY OF SAN CLEMENTE\\nCity Treasurer': 0.9333333333333333,\n",
       " 'CITY OF SAN CLEMENTE\\nMember, City Council, Full Term': 1.0,\n",
       " 'CITY OF SAN CLEMENTE\\nMember, City Council, Short Term': 1,\n",
       " 'CITY OF SANTA ANA\\nMayor': 0.9102564102564102,\n",
       " 'CITY OF SANTA ANA\\nMember, City Council, Ward 1': 1.0,\n",
       " 'CITY OF SANTA ANA\\nMember, City Council, Ward 3': 1.0,\n",
       " 'CITY OF SANTA ANA\\nMember, City Council, Ward 5': 1.0,\n",
       " 'CITY OF SANTA ANAMayor': 1,\n",
       " 'CITY OF SANTA ANAMember, City Council, Ward 3': 1,\n",
       " 'CITY OF SEAL BEACH\\nMember, City Council, District 2': 1,\n",
       " 'CITY OF STANTON\\nMember, City Council, District 2': 1.0,\n",
       " 'CITY OF TUSTIN\\nMember, City Council': 1.0,\n",
       " 'CITY OF WESTMINSTER\\nMember, City Council, District 3': 1.0,\n",
       " 'COAST COMMUNITY COLLEGE DISTRICT\\nGoverning Board Member,\\nTrustee Area 2': 1.0,\n",
       " 'COAST COMMUNITY COLLEGE DISTRICT\\nGoverning Board Member,\\nTrustee Area 4': 0.7,\n",
       " 'COSTA MESA SANITARY DISTRICT\\nDirector, Division 2': 1.0,\n",
       " 'COSTA MESA SANITARY DISTRICT\\nDirector, Division 4': 1.0,\n",
       " 'County Supervisor, 1st District': 1,\n",
       " 'DD-City of Westminster': 0.9230769230769231,\n",
       " 'EAST ORANGE COUNTY WATER DISTRICT\\nDirector': 1,\n",
       " 'FOUNTAIN VALLEY SCHOOL DISTRICT\\nGoverning Board Member': 1,\n",
       " 'GARDEN GROVE UNIFIED SCHOOL DISTRICT\\nGoverning Board Member,\\nTrustee Area 1': 1.0,\n",
       " 'GARDEN GROVE UNIFIED SCHOOL DISTRICT\\nGoverning Board Member,\\nTrustee Area 5': 0.8461538461538461,\n",
       " 'HUNTINGTON BEACH CITY SCHOOL DISTRICT\\nGoverning Board Member,\\nTrustee Area 1': 1,\n",
       " 'HUNTINGTON BEACH UNION HIGH SCHOOL DISTRICT\\nGoverning Board Member': 0.8285714285714286,\n",
       " 'IRVINE RANCH WATER DISTRICT\\nDirector, Division 4': 1.0,\n",
       " 'IRVINE UNIFIED SCHOOL DISTRICT\\nGoverning Board Member,\\nTrustee Area 3': 1,\n",
       " 'IRVINE UNIFIED SCHOOL DISTRICT\\nGoverning Board Member,\\nTrustee Area 5': 1,\n",
       " 'LA HABRA CITY SCHOOL DISTRICT\\nGoverning Board Member,\\nFull Term': 1.0,\n",
       " 'LAGUNA BEACH UNIFIED SCHOOL DISTRICT\\nGoverning Board Member': 1.0,\n",
       " 'LOS ALAMITOS UNIFIED SCHOOL DISTRICT\\nGoverning Board Member,\\nTrustee Area 2': 1.0,\n",
       " 'LOS ALAMITOS UNIFIED SCHOOL DISTRICT\\nGoverning Board Member,\\nTrustee Area 5': 1.0,\n",
       " 'MEMBER OF THE STATE ASSEMBLY\\n55th District': 0.9142857142857143,\n",
       " 'MEMBER OF THE STATE ASSEMBLY\\n65th District': 0.4189189189189189,\n",
       " 'MEMBER OF THE STATE ASSEMBLY\\n68th District': 1.0,\n",
       " 'MEMBER OF THE STATE ASSEMBLY\\n69th District': 0.1978021978021978,\n",
       " 'MEMBER OF THE STATE ASSEMBLY\\n72nd District': 0.5444444444444444,\n",
       " 'MEMBER OF THE STATE ASSEMBLY\\n73rd District': 0.5,\n",
       " 'MEMBER OF THE STATE ASSEMBLY\\n74th District': 1.0,\n",
       " 'MEMBER OF THE STATE ASSEMBLY65th District': 1,\n",
       " 'MEMBER OF THE STATE ASSEMBLY68th District': 1.0,\n",
       " 'MEMBER OF THE STATE ASSEMBLY69th District': 1,\n",
       " 'MESA WATER DISTRICT\\nDirector, Division 2': 1.0,\n",
       " 'MIDWAY CITY SANITARY DISTRICT\\nDirector': 1.0,\n",
       " 'MUNICIPAL WATER DISTRICT OF ORANGE COUNTY\\nDirector, Division 1, Short Term': 0.7142857142857143,\n",
       " 'MUNICIPAL WATER DISTRICT OF ORANGE COUNTY\\nDirector, Division 3': 0.5740740740740741,\n",
       " 'MUNICIPAL WATER DISTRICT OF ORANGE COUNTY\\nDirector, Division 4': 1,\n",
       " 'MUNICIPAL WATER DISTRICT OF ORANGE COUNTY\\nDirector, Division 7': 1.0,\n",
       " 'MUNICIPAL WATER DISTRICT OF ORANGE COUNTYDirector, Division 1, Short Term': 1,\n",
       " 'NEWPORT-MESA UNIFIED SCHOOL DISTRICT\\nGoverning Board Member,\\nTrustee Area 1': 1,\n",
       " 'NEWPORT-MESA UNIFIED SCHOOL DISTRICT\\nGoverning Board Member,\\nTrustee Area 3': 1,\n",
       " 'NEWPORT-MESA UNIFIED SCHOOL DISTRICT\\nGoverning Board Member,\\nTrustee Area 6': 1.0,\n",
       " 'NORTH ORANGE COUNTY COMMUNITY COLLEGE DISTRICT\\nGoverning Board Member,\\nTrustee Area 4': 1.0,\n",
       " 'NORTH ORANGE COUNTY COMMUNITY COLLEGE DISTRICT\\nGoverning Board Member,\\nTrustee Area 5': 0.9615384615384616,\n",
       " 'NORTH ORANGE COUNTY COMMUNITY COLLEGE DISTRICT\\nGoverning Board Member,\\nTrustee Area 7': 1.0,\n",
       " 'NORTH ORANGE COUNTY COMMUNITY COLLEGE DISTRICTGoverning Board Member,Trustee Area 5': 1.0,\n",
       " 'ORANGE COUNTY WATER DISTRICT\\nDirector, Division 4': 0.6595744680851063,\n",
       " 'ORANGE COUNTY WATER DISTRICT\\nDirector, Division 6': 1.0,\n",
       " 'ORANGE UNIFIED SCHOOL DISTRICT\\nGoverning Board Member,\\nTrustee Area 2': 0.6129032258064516,\n",
       " 'ORANGE UNIFIED SCHOOL DISTRICT\\nGoverning Board Member,\\nTrustee Area 3': 1.0,\n",
       " 'ORANGE UNIFIED SCHOOL DISTRICT\\nGoverning Board Member,\\nTrustee Area 6': 0.7096774193548387,\n",
       " 'ORANGE UNIFIED SCHOOL DISTRICTGoverning Board Member,Trustee Area 2': 1,\n",
       " 'ORANGE UNIFIED SCHOOL DISTRICTGoverning Board Member,Trustee Area 3': 1,\n",
       " 'ORANGE UNIFIED SCHOOL DISTRICTGoverning Board Member,Trustee Area 6': 1,\n",
       " 'PLACENTIA-YORBA LINDA UNIFIED SCHOOL DISTRICT\\nGoverning Board Member,\\nTrustee Area 1': 1.0,\n",
       " 'PLACENTIA-YORBA LINDA UNIFIED SCHOOL DISTRICT\\nGoverning Board Member,\\nTrustee Area 2': 1,\n",
       " 'PLACENTIA-YORBA LINDA UNIFIED SCHOOL DISTRICT\\nGoverning Board Member,\\nTrustee Area 3': 1.0,\n",
       " 'PLACENTIA-YORBA LINDA UNIFIED SCHOOL DISTRICTGoverning Board Member,Trustee Area 2': 1.0,\n",
       " 'PRESIDENT AND VICE PRESIDENT': 0.0984251968503937,\n",
       " 'Proposition 14': 0.7790927021696252,\n",
       " 'Proposition 15': 0.14595660749506903,\n",
       " 'Proposition 16': 0.06521739130434782,\n",
       " 'Proposition 17': 0.17296222664015903,\n",
       " 'Proposition 18': 0.06387225548902195,\n",
       " 'Proposition 19': 0.2544731610337972,\n",
       " 'Proposition 20': 0.0905587668593449,\n",
       " 'Proposition 21': 0.058333333333333334,\n",
       " 'Proposition 22': 0.06438631790744467,\n",
       " 'Proposition 23': 0.06438631790744467,\n",
       " 'Proposition 24': 0.11991869918699187,\n",
       " 'Proposition 25': 0.10772357723577236,\n",
       " 'Q-City of Costa Mesa': 0.7391304347826086,\n",
       " 'RANCHO SANTIAGO COMMUNITY COLLEGE DISTRICT\\nGoverning Board Member,\\nTrustee Area 3': 1.0,\n",
       " 'RANCHO SANTIAGO COMMUNITY COLLEGE DISTRICT\\nGoverning Board Member,\\nTrustee Area 5': 1.0,\n",
       " 'RANCHO SANTIAGO COMMUNITY COLLEGE DISTRICT\\nGoverning Board Member,\\nTrustee Area 7': 1.0,\n",
       " 'S-City of Fullerton': 1.0,\n",
       " 'SADDLEBACK VALLEY UNIFIED SCHOOL DISTRICT\\nGoverning Board Member,\\nTrustee Area 2': 1.0,\n",
       " 'SADDLEBACK VALLEY UNIFIED SCHOOL DISTRICT\\nGoverning Board Member,\\nTrustee Area 4': 1.0,\n",
       " 'SANTA ANA UNIFIED SCHOOL DISTRICT\\nGoverning Board Member': 1,\n",
       " 'SANTA MARGARITA WATER DISTRICT\\nDirector': 1,\n",
       " 'SOUTH COAST WATER DISTRICT\\nDirector': 1,\n",
       " 'SOUTH ORANGE COUNTY COMMUNITY COLLEGE DISTRICT\\nGoverning Board Member,\\nTrustee Area 1': 0.2571428571428571,\n",
       " 'SOUTH ORANGE COUNTY COMMUNITY COLLEGE DISTRICT\\nGoverning Board Member,\\nTrustee Area 6': 1.0,\n",
       " 'SOUTH ORANGE COUNTY COMMUNITY COLLEGE DISTRICT\\nGoverning Board Member,\\nTrustee Area 7': 0.6214285714285714,\n",
       " 'STATE SENATOR\\n29th District': 0.27586206896551724,\n",
       " 'STATE SENATOR\\n37th District': 0.6666666666666666,\n",
       " 'STATE SENATOR37th District': 1.0,\n",
       " 'SUNSET BEACH SANITARY DISTRICT\\nDirector, Full Term': 1,\n",
       " 'SURFSIDE COLONY STORM WATER PROTECTION DISTRICT\\nTrustee': 1,\n",
       " 'TUSTIN UNIFIED SCHOOL DISTRICT\\nGoverning Board Member,\\nTrustee Area 1': 1.0,\n",
       " 'TUSTIN UNIFIED SCHOOL DISTRICT\\nGoverning Board Member,\\nTrustee Area 2': 1.0,\n",
       " 'U-City of Fullerton': 1.0,\n",
       " 'UNITED STATES REPRESENTATIVE\\n39th District': 1.0,\n",
       " 'UNITED STATES REPRESENTATIVE\\n45th District': 1.0,\n",
       " 'UNITED STATES REPRESENTATIVE\\n46th District': 0.12403100775193798,\n",
       " 'UNITED STATES REPRESENTATIVE\\n47th District': 0.5681818181818182,\n",
       " 'UNITED STATES REPRESENTATIVE\\n48th District': 0.6230769230769231,\n",
       " 'UNITED STATES REPRESENTATIVE\\n49th District': 0.4888888888888889,\n",
       " 'UNITED STATES REPRESENTATIVE39th District': 1,\n",
       " 'UNITED STATES REPRESENTATIVE46th District': 1.0,\n",
       " 'W-City of La Habra': 1.0,\n",
       " 'WESTMINSTER SCHOOL DISTRICT\\nGoverning Board Member,\\nTrustee Area 1': 1.0,\n",
       " 'X-City of La Habra': 1,\n",
       " 'Y-City of Los Alamitos': 0.9090909090909091,\n",
       " 'Z-City of Newport Beach': 1.0}"
      ]
     },
     "execution_count": 6,
     "metadata": {},
     "output_type": "execute_result"
    }
   ],
   "source": [
    "risk_function = \"kaplan_kolmogorov\" \n",
    "alpha = .05\n",
    "contests = vote_count_df[\"contest\"].unique()\n",
    "error_rate = .001\n",
    "\n",
    "\n",
    "#aggregate across styles to get sampling fraction to verify each contest\n",
    "contest_totals_df = vote_count_df.groupby([\"contest\",\"vote\"])[\"num_votes\"].sum().reset_index()\n",
    "sample_fractions = []\n",
    "margins = []\n",
    "#ballots = []\n",
    "for i in range(len(contests)):\n",
    "    valid_votes = sorted(contest_totals_df[\"num_votes\"][(contest_totals_df[\"contest\"] == contests[i]) & (contest_totals_df[\"vote\"] != \"NA\")].tolist(), reverse = True)\n",
    "    ballots_cast = sum(contest_totals_df[\"num_votes\"][contest_totals_df[\"contest\"] == contests[i]])\n",
    "    #ballots = ballots.append(ballots_cast)\n",
    "    #if there's only one ballot in the contest, check it.\n",
    "    if ballots_cast == 1:\n",
    "        sample_fractions.append(1)\n",
    "        margins.append(0)\n",
    "        continue\n",
    "    #if there is only one option with valid votes, the next option received 0 (though we don't know what it is)\n",
    "    if len(valid_votes) == 1:\n",
    "        valid_votes.append(0)\n",
    "    #Margins eventually need to be able to accomodate multiple winners\n",
    "    m = (valid_votes[0] - valid_votes[1]) / ballots_cast\n",
    "    margins.append(m)\n",
    "    if m == 0:\n",
    "        sample_fractions.append(1)\n",
    "        continue\n",
    "    #N might need to be more general to account for phantoms\n",
    "    if risk_function == \"kaplan_markov\":\n",
    "        risk_fn = lambda x: TestNonnegMean.kaplan_markov(x, g = .1)\n",
    "    elif risk_function == \"kaplan_wald\":\n",
    "        risk_fn = lambda x: TestNonnegMean.kaplan_wald(x, g = .1)\n",
    "    elif risk_function == \"kaplan_kolmogorov\":\n",
    "        risk_fn = lambda x: TestNonnegMean.kaplan_kolmogorov(x, N = ballots_cast, g = .1)\n",
    "    elif risk_function == \"kaplan_martingale\":\n",
    "        risk_fn = lambda x: TestNonnegMean.kaplan_martingale(x, N = ballots_cast, g = .1)[0]\n",
    "    else:\n",
    "        \"Input a valid risk_function.\"\n",
    "\n",
    "    sample_fractions.append(TestNonnegMean.initial_sample_size(risk_function = risk_fn, margin = m, N = ballots_cast, alpha = alpha, error_rate = error_rate, u = 1, t = 1/2) / ballots_cast)\n",
    "#Uses S4, eventually we will want to use a more efficient method\n",
    "dict(zip(contests, sample_fractions))"
   ]
  },
  {
   "cell_type": "code",
   "execution_count": 5,
   "metadata": {},
   "outputs": [
    {
     "name": "stderr",
     "output_type": "stream",
     "text": [
      "/Users/Jake/miniconda3/lib/python3.6/site-packages/pandas/core/frame.py:6211: FutureWarning: Sorting because non-concatenation axis is not aligned. A future version\n",
      "of pandas will change to not sort by default.\n",
      "\n",
      "To accept the future behavior, pass 'sort=False'.\n",
      "\n",
      "To retain the current behavior and silence the warning, pass 'sort=True'.\n",
      "\n",
      "  sort=sort)\n"
     ]
    },
    {
     "data": {
      "text/plain": [
       "689.0428398005711"
      ]
     },
     "execution_count": 5,
     "metadata": {},
     "output_type": "execute_result"
    }
   ],
   "source": [
    "get_expected_sample_size(cvr_list, risk_function = \"kaplan_kolmogorov\", error_rate = 0, alpha = .05)"
   ]
  },
  {
   "cell_type": "code",
   "execution_count": 6,
   "metadata": {},
   "outputs": [
    {
     "name": "stderr",
     "output_type": "stream",
     "text": [
      "/Users/Jake/miniconda3/lib/python3.6/site-packages/pandas/core/frame.py:6211: FutureWarning: Sorting because non-concatenation axis is not aligned. A future version\n",
      "of pandas will change to not sort by default.\n",
      "\n",
      "To accept the future behavior, pass 'sort=False'.\n",
      "\n",
      "To retain the current behavior and silence the warning, pass 'sort=True'.\n",
      "\n",
      "  sort=sort)\n"
     ]
    },
    {
     "data": {
      "text/plain": [
       "702.0676967683497"
      ]
     },
     "execution_count": 6,
     "metadata": {},
     "output_type": "execute_result"
    }
   ],
   "source": [
    "get_expected_sample_size(cvr_list, risk_function = \"kaplan_kolmogorov\", error_rate = .001, alpha = .05)"
   ]
  },
  {
   "cell_type": "code",
   "execution_count": 7,
   "metadata": {},
   "outputs": [
    {
     "name": "stderr",
     "output_type": "stream",
     "text": [
      "/Users/Jake/miniconda3/lib/python3.6/site-packages/pandas/core/frame.py:6211: FutureWarning: Sorting because non-concatenation axis is not aligned. A future version\n",
      "of pandas will change to not sort by default.\n",
      "\n",
      "To accept the future behavior, pass 'sort=False'.\n",
      "\n",
      "To retain the current behavior and silence the warning, pass 'sort=True'.\n",
      "\n",
      "  sort=sort)\n"
     ]
    },
    {
     "data": {
      "text/plain": [
       "703.2841084058059"
      ]
     },
     "execution_count": 7,
     "metadata": {},
     "output_type": "execute_result"
    }
   ],
   "source": [
    "get_expected_sample_size(cvr_list, risk_function = \"kaplan_markov\", error_rate = 0, alpha = .05)"
   ]
  },
  {
   "cell_type": "code",
   "execution_count": 8,
   "metadata": {},
   "outputs": [
    {
     "name": "stderr",
     "output_type": "stream",
     "text": [
      "/Users/Jake/miniconda3/lib/python3.6/site-packages/pandas/core/frame.py:6211: FutureWarning: Sorting because non-concatenation axis is not aligned. A future version\n",
      "of pandas will change to not sort by default.\n",
      "\n",
      "To accept the future behavior, pass 'sort=False'.\n",
      "\n",
      "To retain the current behavior and silence the warning, pass 'sort=True'.\n",
      "\n",
      "  sort=sort)\n"
     ]
    },
    {
     "data": {
      "text/plain": [
       "718.6366677980894"
      ]
     },
     "execution_count": 8,
     "metadata": {},
     "output_type": "execute_result"
    }
   ],
   "source": [
    "get_expected_sample_size(cvr_list, risk_function = \"kaplan_markov\", error_rate = .001, alpha = .05)"
   ]
  },
  {
   "cell_type": "code",
   "execution_count": null,
   "metadata": {},
   "outputs": [],
   "source": [
    "# example return ballots\n",
    "sorted_cvr_list = assign_random_number(cvr_list)\n",
    "get_ballots_threshold(sorted_cvr_list, sample_size_dict = {'Z-City of Newport Beach' : 5, \n",
    "                                                    'UNITED STATES REPRESENTATIVE46th District' : 5},\n",
    "                     sampled_CVRs = [])"
   ]
  },
  {
   "cell_type": "code",
   "execution_count": 31,
   "metadata": {},
   "outputs": [],
   "source": [
    "N = 5000\n",
    "alpha = 0.05\n",
    "m_null = 1 / 2\n",
    "\n",
    "true = np.concatenate((np.repeat(0, 990), np.repeat(1, 1010)))\n",
    "reported = np.concatenate((np.repeat(0, 990), np.repeat(1, 1010)))\n",
    "omega = reported - true\n",
    "v = 2 * np.mean(reported) - 1\n",
    "b = (1 - omega) / (2 - v)\n",
    "mu_0 = 1/2"
   ]
  },
  {
   "cell_type": "code",
   "execution_count": 32,
   "metadata": {},
   "outputs": [
    {
     "data": {
      "text/plain": [
       "{'SqKelly': array([2000, 2000, 2000, 2000, 2000, 2000, 2000, 2000, 2000, 2000, 2000,\n",
       "        2000, 2000, 2000, 2000, 2000, 2000, 2000, 2000, 2000, 2000, 2000,\n",
       "        2000, 2000, 2000, 2000, 2000, 2000, 2000, 2000, 2000, 2000, 2000,\n",
       "        2000, 2000, 2000, 2000, 2000, 2000, 2000, 2000, 2000, 2000, 2000,\n",
       "        2000, 2000, 2000, 2000, 2000, 2000, 2000, 2000, 2000, 2000, 2000,\n",
       "        2000, 2000, 2000, 2000, 2000, 2000, 2000, 2000, 2000, 2000, 2000,\n",
       "        2000, 2000, 2000, 2000, 2000, 2000, 2000, 2000, 2000, 2000, 2000,\n",
       "        2000, 2000, 2000, 2000, 2000, 2000, 2000, 2000, 2000, 2000, 2000,\n",
       "        2000, 2000, 2000, 2000, 2000, 2000, 2000, 2000, 2000, 2000, 2000,\n",
       "        2000])}"
      ]
     },
     "execution_count": 32,
     "metadata": {},
     "output_type": "execute_result"
    }
   ],
   "source": [
    "get_workloads(\n",
    "    workload_dict = {\"SqKelly\": lambda x: get_workload_from_mart(\n",
    "        x,\n",
    "        mart_fn=lambda y: sqKelly_martingale(y, 1 / 2, N=N, D=20, beta=1),\n",
    "        alpha=alpha,\n",
    "    )},\n",
    "    data = b\n",
    ")"
   ]
  },
  {
   "cell_type": "code",
   "execution_count": 7,
   "metadata": {},
   "outputs": [
    {
     "ename": "TypeError",
     "evalue": "unsupported operand type(s) for /: 'NoneType' and 'int'",
     "output_type": "error",
     "traceback": [
      "\u001b[0;31m---------------------------------------------------------------------------\u001b[0m",
      "\u001b[0;31mTypeError\u001b[0m                                 Traceback (most recent call last)",
      "\u001b[0;32m<ipython-input-7-72efa974fbbf>\u001b[0m in \u001b[0;36m<module>\u001b[0;34m()\u001b[0m\n\u001b[1;32m     14\u001b[0m          np.repeat(1, valid_votes[0]))\n\u001b[1;32m     15\u001b[0m         )\n\u001b[0;32m---> 16\u001b[0;31m     \u001b[0msample_fractions\u001b[0m\u001b[0;34m.\u001b[0m\u001b[0mappend\u001b[0m\u001b[0;34m(\u001b[0m\u001b[0mget_sample_size_kelly\u001b[0m\u001b[0;34m(\u001b[0m\u001b[0mreported_votes\u001b[0m\u001b[0;34m,\u001b[0m \u001b[0malpha\u001b[0m \u001b[0;34m=\u001b[0m \u001b[0;36m.05\u001b[0m\u001b[0;34m)\u001b[0m\u001b[0;34m)\u001b[0m\u001b[0;34m\u001b[0m\u001b[0m\n\u001b[0m\u001b[1;32m     17\u001b[0m \u001b[0;34m\u001b[0m\u001b[0m\n\u001b[1;32m     18\u001b[0m \u001b[0;34m\u001b[0m\u001b[0m\n",
      "\u001b[0;32m~/Dropbox/RLAs/Orange County Audit/hart_tools.py\u001b[0m in \u001b[0;36mget_sample_size_kelly\u001b[0;34m(reported_counts, alpha)\u001b[0m\n\u001b[1;32m    281\u001b[0m         \u001b[0mnsim\u001b[0m \u001b[0;34m=\u001b[0m \u001b[0;36m100\u001b[0m\u001b[0;34m\u001b[0m\u001b[0m\n\u001b[1;32m    282\u001b[0m     )\n\u001b[0;32m--> 283\u001b[0;31m     \u001b[0mexpected_workload\u001b[0m \u001b[0;34m=\u001b[0m \u001b[0mnp\u001b[0m\u001b[0;34m.\u001b[0m\u001b[0mmean\u001b[0m\u001b[0;34m(\u001b[0m\u001b[0mworkloads\u001b[0m\u001b[0;34m.\u001b[0m\u001b[0mget\u001b[0m\u001b[0;34m(\u001b[0m\u001b[0;34m\"SqKelly\"\u001b[0m\u001b[0;34m)\u001b[0m\u001b[0;34m)\u001b[0m\u001b[0;34m\u001b[0m\u001b[0m\n\u001b[0m\u001b[1;32m    284\u001b[0m     \u001b[0;32mreturn\u001b[0m \u001b[0mexpected_workload\u001b[0m\u001b[0;34m\u001b[0m\u001b[0m\n",
      "\u001b[0;32m~/miniconda3/lib/python3.6/site-packages/numpy/core/fromnumeric.py\u001b[0m in \u001b[0;36mmean\u001b[0;34m(a, axis, dtype, out, keepdims)\u001b[0m\n\u001b[1;32m   2918\u001b[0m \u001b[0;34m\u001b[0m\u001b[0m\n\u001b[1;32m   2919\u001b[0m     return _methods._mean(a, axis=axis, dtype=dtype,\n\u001b[0;32m-> 2920\u001b[0;31m                           out=out, **kwargs)\n\u001b[0m\u001b[1;32m   2921\u001b[0m \u001b[0;34m\u001b[0m\u001b[0m\n\u001b[1;32m   2922\u001b[0m \u001b[0;34m\u001b[0m\u001b[0m\n",
      "\u001b[0;32m~/miniconda3/lib/python3.6/site-packages/numpy/core/_methods.py\u001b[0m in \u001b[0;36m_mean\u001b[0;34m(a, axis, dtype, out, keepdims)\u001b[0m\n\u001b[1;32m     85\u001b[0m             \u001b[0mret\u001b[0m \u001b[0;34m=\u001b[0m \u001b[0mret\u001b[0m\u001b[0;34m.\u001b[0m\u001b[0mdtype\u001b[0m\u001b[0;34m.\u001b[0m\u001b[0mtype\u001b[0m\u001b[0;34m(\u001b[0m\u001b[0mret\u001b[0m \u001b[0;34m/\u001b[0m \u001b[0mrcount\u001b[0m\u001b[0;34m)\u001b[0m\u001b[0;34m\u001b[0m\u001b[0m\n\u001b[1;32m     86\u001b[0m     \u001b[0;32melse\u001b[0m\u001b[0;34m:\u001b[0m\u001b[0;34m\u001b[0m\u001b[0m\n\u001b[0;32m---> 87\u001b[0;31m         \u001b[0mret\u001b[0m \u001b[0;34m=\u001b[0m \u001b[0mret\u001b[0m \u001b[0;34m/\u001b[0m \u001b[0mrcount\u001b[0m\u001b[0;34m\u001b[0m\u001b[0m\n\u001b[0m\u001b[1;32m     88\u001b[0m \u001b[0;34m\u001b[0m\u001b[0m\n\u001b[1;32m     89\u001b[0m     \u001b[0;32mreturn\u001b[0m \u001b[0mret\u001b[0m\u001b[0;34m\u001b[0m\u001b[0m\n",
      "\u001b[0;31mTypeError\u001b[0m: unsupported operand type(s) for /: 'NoneType' and 'int'"
     ]
    }
   ],
   "source": [
    "vote_count_df = votes_df\n",
    "contests = vote_count_df[\"contest\"].unique()\n",
    "#aggregate across styles to get sampling fraction to verify each contest\n",
    "contest_totals_df = vote_count_df.groupby([\"contest\",\"vote\"])[\"num_votes\"].sum().reset_index()\n",
    "sample_fractions = []\n",
    "for i in range(len(contests)):\n",
    "#construct a vector with N_w 1s, N_l 0s, and N_u 1/2s\n",
    "#N_w is the number of votes for the winner, N_l is the number of votes for the loser who almost one\n",
    "    valid_votes = sorted(contest_totals_df[\"num_votes\"][(contest_totals_df[\"contest\"] == contests[i]) & (contest_totals_df[\"vote\"] != \"NA\")].tolist(), reverse = True)\n",
    "    ballots_cast = sum(contest_totals_df[\"num_votes\"][contest_totals_df[\"contest\"] == contests[i]])\n",
    "    reported_votes = np.concatenate(\n",
    "        (np.repeat(0, valid_votes[1]),\n",
    "         np.repeat(1/2, ballots_cast - valid_votes[0] - valid_votes[1]),\n",
    "         np.repeat(1, valid_votes[0]))\n",
    "        )\n",
    "    sample_fractions.append(get_sample_size_kelly(reported_votes, alpha = .05) / ballots_cast)\n",
    "   \n",
    "\n",
    "   "
   ]
  },
  {
   "cell_type": "code",
   "execution_count": null,
   "metadata": {},
   "outputs": [],
   "source": []
  }
 ],
 "metadata": {
  "kernelspec": {
   "display_name": "Python 3 (ipykernel)",
   "language": "python",
   "name": "python3"
  },
  "language_info": {
   "codemirror_mode": {
    "name": "ipython",
    "version": 3
   },
   "file_extension": ".py",
   "mimetype": "text/x-python",
   "name": "python",
   "nbconvert_exporter": "python",
   "pygments_lexer": "ipython3",
   "version": "3.10.4"
  }
 },
 "nbformat": 4,
 "nbformat_minor": 4
}
