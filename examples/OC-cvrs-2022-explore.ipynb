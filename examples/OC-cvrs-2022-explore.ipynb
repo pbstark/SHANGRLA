{
 "cells": [
  {
   "cell_type": "code",
   "execution_count": null,
   "id": "96ff6f26-f9f9-464a-aef7-30d983e96961",
   "metadata": {},
   "outputs": [],
   "source": [
    "from zipfile import ZipFile, Path\n",
    "from collections import defaultdict\n",
    "from IPython.display import display, Image\n",
    "from base64 import b64decode"
   ]
  },
  {
   "cell_type": "code",
   "execution_count": null,
   "id": "b2e50576-f03c-4b7a-a52c-9d9df0e5f746",
   "metadata": {},
   "outputs": [],
   "source": [
    "fn = './Data/Hart/OC2022/cvrs.zip'"
   ]
  },
  {
   "cell_type": "code",
   "execution_count": null,
   "id": "6208a4fc-4768-463b-84be-8b5eabe31c9d",
   "metadata": {},
   "outputs": [],
   "source": [
    "with ZipFile(fn, 'r') as data:\n",
    "    file_list = data.namelist()\n",
    "    dir_path = Path(data)"
   ]
  },
  {
   "cell_type": "code",
   "execution_count": null,
   "id": "94e1061d-aac6-410a-bf2c-6b0a703fc420",
   "metadata": {},
   "outputs": [],
   "source": [
    "len(file_list)"
   ]
  },
  {
   "cell_type": "code",
   "execution_count": null,
   "id": "ee0efcdd-1d0e-49ea-aad1-ffb15622ebb6",
   "metadata": {},
   "outputs": [],
   "source": [
    "# print the whole directory structure\n",
    "# for p in dir_path.iterdir():\n",
    "#    print(p)"
   ]
  },
  {
   "cell_type": "code",
   "execution_count": null,
   "id": "c35e1055-afa7-4c5c-a7a6-e0724ae4e844",
   "metadata": {},
   "outputs": [],
   "source": [
    "extension_counts = defaultdict(int)\n",
    "for f in file_list:\n",
    "    extension_counts[f[-3:]] += 1"
   ]
  },
  {
   "cell_type": "code",
   "execution_count": null,
   "id": "94b4f00b-06cc-48c7-8912-7edc596da18f",
   "metadata": {},
   "outputs": [],
   "source": [
    "extension_counts"
   ]
  },
  {
   "cell_type": "code",
   "execution_count": null,
   "id": "125a0c22-2a4f-43c4-aeee-50d1c9e0b670",
   "metadata": {},
   "outputs": [],
   "source": [
    "num = 10\n",
    "start = len(file_list)-num-1\n",
    "with ZipFile(fn) as data:\n",
    "    for cvr in file_list[start:start+num]:\n",
    "        with data.open(cvr) as my_cvr:\n",
    "            display(Image(my_cvr.read()))"
   ]
  }
 ],
 "metadata": {
  "kernelspec": {
   "display_name": "Python 3 (ipykernel)",
   "language": "python",
   "name": "python3"
  },
  "language_info": {
   "codemirror_mode": {
    "name": "ipython",
    "version": 3
   },
   "file_extension": ".py",
   "mimetype": "text/x-python",
   "name": "python",
   "nbconvert_exporter": "python",
   "pygments_lexer": "ipython3",
   "version": "3.8.13"
  }
 },
 "nbformat": 4,
 "nbformat_minor": 5
}
