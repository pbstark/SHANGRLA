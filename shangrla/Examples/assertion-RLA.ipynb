{
 "cells": [
  {
   "cell_type": "markdown",
   "metadata": {},
   "source": [
    "# Assertion RLA"
   ]
  },
  {
   "cell_type": "markdown",
   "metadata": {},
   "source": [
    "## Overview of the assertion audit tool\n",
    "\n",
    "The tool requires as input:\n",
    "\n",
    "+ audit-specific and contest-specific parameters, such as\n",
    "    - whether to sample with or without replacement\n",
    "    - the name of the risk function to use, and any parameters it requires\n",
    "    - a risk limit for each contest to be audited\n",
    "    - the social choice function for each contest, including the number of winners\n",
    "    - candidate identifiers for each contest\n",
    "    - reported winner(s) for each contest\n",
    "    - an upper bound on the number of ballot cards that contain each contest\n",
    "    - an upper bound on the total number of cards across all contests\n",
    "    - whether to use card style information to target sampling\n",
    "+ a ballot manifest (see below)\n",
    "+ a random seed\n",
    "+ a file of cast vote records (for ballot-comparison audits)\n",
    "+ reported vote tallies for for each contest (for ballot-polling audits of plurality, supermajority, and approval social choice functions)\n",
    "+ json files of assertions for IRV contests (one file per IRV contest)\n",
    "+ human reading of voter intent from the paper cards selected for audit\n",
    "\n",
    "`use_style` controls whether the sample is drawn from all cards (`use_style == False`) or card style information is used\n",
    "to target the cards that purport to contain each contest (`use_style == True`).\n",
    "In the current implementation, card style information is inferred from cast-vote records, with additional 'phantom' CVRs if there could be more cards that contain a contest than is accounted for in the CVRs.\n",
    "Errors in the card style information are treated conservatively using the  \"phantoms-to-evil-zombies\" (~2EZ) approach ([Banuelos & Stark, 2012](https://arxiv.org/abs/1207.3413)) so that the risk limit remains valid, even if the CVRs misrepresent\n",
    "which cards contain which contests.\n",
    "\n",
    "The two ways of sampling are treated differently. \n",
    "If the sample is to be drawn only from cards that--according to the CVR--contain a particular contest, and a sampled card turns out not to\n",
    "contain that contest, that is considered a discrepancy, dealt with using the ~2EZ approach.\n",
    "It is assumed that every CVR corresponds to a card in the manifest, but there might\n",
    "be cards cast in the contest for which there is no corresponding CVR. In that case,\n",
    "phantom CVRs are created to ensure that the audit is still truly risk-limiting.\n",
    "\n",
    "Given an independent (i.e., not relying on the voting system) upper bound on the number of cards that contain the contest, if the number of CVRs that contain the contest does not exceed that bound, we can sample from paper purported to contain the contest and use the ~2EZ approach to deal with missing CVRs. This can greatly increase the efficiency of the audit if \n",
    "some contests appear on only a small percentage of the cast cards ([Glazer, Spertus, and Stark, 2021](https://dl.acm.org/doi/10.1145/3457907)).\n",
    "If there are more CVRs than the upper bound on the number of cards, extra CVRs can be deleted provided\n",
    "that deletion does not change any contest outcome. See [Stark, 2022](https://arxiv.org/abs/2207.01362).\n",
    "(However, if there more CVRs than cards, that is evidence of a process failure.)\n",
    "\n",
    "Any sampled phantom card (i.e., a card for which there is no CVR) is treated as if its CVR is a non-vote (which it is), and as if its MVR was least favorable (an \"evil zombie\" producing the greatest doubt in every assertion, separately). Any sampled card for which there is a CVR is compared to its corresponding CVR. \n",
    "If the card turns out not to contain the contest (despite the fact that the CVR says it does), the MVR is treated in the least favorable way for each assertion (i.e., as a zombie rather than as a non-vote).\n",
    "\n",
    "The tool helps select cards for audit, and reports when the audit has found sufficiently strong evidence to stop.\n",
    "\n",
    "The tool exports a log of all the audit inputs except the CVR file, but including the auditors' manually determined voter intent from the audited cards.\n",
    "\n",
    "The pre-10/2021 version used a single sample to audit all contests. "
   ]
  },
  {
   "cell_type": "markdown",
   "metadata": {},
   "source": [
    "### Internal workflow\n",
    "\n",
    "+ Read overall audit information (including the seed) and contest information\n",
    "+ Read assertions for IRV contests and construct assertions for all other contests\n",
    "+ Read ballot manifest\n",
    "+ Read cvrs. Every CVR should have a corresponding manifest entry.\n",
    "+ Prepare ~2EZ:\n",
    "    - `N_phantoms = max_cards - cards_in_manifest`\n",
    "    - If `N_phantoms < 0`, complain\n",
    "    - Else create `N_phantoms` phantom cards\n",
    "    - For each contest `c`:\n",
    "        + `N_c` is the input upper bound on the number of cards that contain `c`\n",
    "        + if `N_c is None`, `N_c = max_cards - non_c_cvrs`, where `non_c_cvrs` is #CVRs that don't contain `c`\n",
    "        + `C_c` is the number of CVRs that contain the contest\n",
    "        + if `C_c > N_c`, complain\n",
    "        + else if `N_c - C_c > N_phantoms`, complain\n",
    "        + else:\n",
    "            - Consider contest `c` to be on the first `N_c - C_c` phantom CVRs\n",
    "            - Consider contest `c` to be on the first `N_c - C_c` phantom ballots\n",
    "+ Create Assertions for every Contest. This involves also creating an Assorter for every Assertion, and a `NonnegMean` test\n",
    "for every Assertion.\n",
    "+ Calculate assorter margins for all assorters:\n",
    "    - If `not use_style`, apply the Assorter to all cards and CVRs, including phantoms\n",
    "    - Else apply the assorter only to cards/cvrs reported to contain the contest, including phantoms that contain the contest\n",
    "+ Set `assertion.test.u` to the appropriate value for each assertion: `assorter.upper_bound` for polling audits or \n",
    "      `2/(2-assorter.margin/assorter.upper_bound)` for ballot-level comparison audits\n",
    "+ Estimate starting sample size for the specified sampling design (w/ or w/o replacement, stratified, etc.), for chosen risk function, use of card-style information, etc.:\n",
    "    - User-specified criterion, controlled by parameters. Examples:\n",
    "        + expected sample size for completion, on the assumption that there are no errors\n",
    "        + 90th percentile of sample size for completion, on the assumption that errors are not more frequent than specified\n",
    "    - If `not use_style`, base estimate on sampling from the entire manifest, i.e., smallest assorter margin\n",
    "    - Else use consistent sampling:\n",
    "        + Augment each CVR (including phantoms) with a probability of selection, `p`, initially 0\n",
    "        + For each contest `c`:\n",
    "            - Find sample size `n_c` that meets the criterion \n",
    "            - For each non-phantom CVR that contains the contest, set `p = max(p, n_c/N_c)` \n",
    "        + Estimated sample size is the sum of `p` over all non-phantom CVRs\n",
    "+ Draw the random sample:\n",
    "    - Use the specified design, including using consistent sampling for style information\n",
    "    - Express sample cards in terms of the manifest\n",
    "    - Export\n",
    "+ Read manual interpretations of the cards (MVRs)\n",
    "+ Calculate attained risk for each assorter\n",
    "    - Use ~2EZ to deal with phantom CVRs or cards; the treatment depends on whether `use_style == True`\n",
    "+ Report\n",
    "+ Estimate incremental sample size if any assorter nulls have not been rejected\n",
    "+ Draw incremental sample; etc"
   ]
  },
  {
   "cell_type": "markdown",
   "metadata": {},
   "source": [
    "# Audit parameters.\n",
    "\n",
    "The overall audit involves information that is the same across contests, encapsulated in\n",
    "a dict called `audit`:\n",
    "\n",
    "* `seed`: the numeric seed for the pseudo-random number generator used to draw sample (for SHA256 PRNG)\n",
    "* `sim_seed`: seed for simulations to estimate sample sizes (for Mersenne Twister PRNG)\n",
    "* `quantile`: quantile of the sample size to use for setting initial sample size\n",
    "* `cvr_file`: filename for CVRs (input)\n",
    "* `manifest_file`: filename for ballot manifest (input)\n",
    "* `use_style`: Boolean. If True, use card style information (inferred from CVRs) to target samples. If False, sample from all cards, regardless of the contest.\n",
    "* `sample_file`: filename for sampled card identifiers (output)\n",
    "* `mvr_file`: filename for manually ascertained votes from sampled cards (input)\n",
    "* `log_file`: filename for audit log (output)\n",
    "* `error_rate_1`: expected rate of 1-vote overstatements. Recommended value $\\ge$ 0.001 if there are hand-marked ballots. Larger values increase the initial sample size, but make it more likely that the audit will conclude after a single round even if the audit finds errors\n",
    "* `error_rate_2`: expected rate of 2-vote overstatements. 2-vote overstatements should be extremely rare.\n",
    "Recommended value: 0. Larger values increase the initial sample size, but make it more likely that the audit will conclude after a single round even if the audit finds errors\n",
    "* `reps`: number of replications to use to estimate sample sizes. If `reps is None`, uses a deterministic method\n",
    "* `quantile`: quantile of sample size to estimate. Not used if `reps is None`\n",
    "* `strata`: a dict describing the strata. Keys are stratum identifiers; values are dicts containing:\n",
    "    + `max_cards`: an upper bound on the number of pieces of paper cast in the contest. This should be derived independently of the voting system. A ballot consists of one or more cards.\n",
    "    + `replacement`: whether to sample from this stratum with replacement. \n",
    "    + `use_style`: True if the sample in that stratum uses card-style information.\n",
    "    + `audit_type` one of Contest.POLLING, Contest.CARD_COMPARISON, Contest.BATCH_COMPARISON but only POLLING and CARD_COMPARISON are currently implemented. \n",
    "    + `test`: the name of the function to be used to measure risk. Options are `kaplan_markov`,`kaplan_wald`,`kaplan_kolmogorov`,`wald_sprt`,`kaplan_mart`, `alpha_mart`, `betting_mart`. \n",
    "Not all risk functions work with every social choice function or every sampling method. \n",
    "    + `estim`: the estimator to be used by the `alpha_mart` risk function. Options:  \n",
    "        - `fixed_alternative_mean` (default)\n",
    "        - `shrink_trunc`\n",
    "        - `optimal_comparison`\n",
    "    + `bet`: the method to select the bet for the `betting_mart` risk function. Options:\n",
    "        - `fixed_bet` (default)\n",
    "        - `agrapa`\n",
    "    + `test_kwargs`: keyword arguments for the risk function\n",
    "\n",
    "----\n",
    "\n",
    "* `contests`: a dict of contest-specific data \n",
    "    + the keys are unique contest identifiers for contests under audit\n",
    "    + the values are Contest objects with attributes:\n",
    "        - `risk_limit`: the risk limit for the audit of this contest\n",
    "        - `cards`: an upper bound on the number of cast cards that contain the contest\n",
    "        - `choice_function`: `Audit.SOCIAL_CHOICE_FUNCTION.PLURALITY`, \n",
    "          `Audit.SOCIAL_CHOICE_FUNCTION.SUPERMAJORITY`, or `Audit.SOCIAL_CHOICE_FUNCTION.IRV`\n",
    "        - `n_winners`: number of winners for majority contests. (Multi-winner IRV, aka STV, is not supported)\n",
    "        - `share_to_win`: for super-majority contests, the fraction of valid votes required to win, e.g., 2/3.\n",
    "           (share_to_win*n_winners must be less than 100%)\n",
    "        - `candidates`: list of names or identifiers of candidates\n",
    "        - `reported_winners` : list of identifier(s) of candidate(s) reported to have won.\n",
    "           Length should equal `n_winners`.\n",
    "        - `assertion_file`: filename for a set of json descriptors of Assertions (see technical documentation) that collectively imply the reported outcome of the contest is correct. Required for IRV; ignored for other social choice functions\n",
    "        - `audit_type`: the audit strategy. Currently `Audit.AUDIT_TYPE.POLLING (ballot-polling)`, \n",
    "           `Audit.AUDIT_TYPE.CARD_COMPARISON` (ballot-level comparison audits), and `Audit.AUDIT_TYPE.ONEAUDIT`\n",
    "            are implemented. HYBRID and STRATIFIED are planned.\n",
    "        - `test`: the risk function for the audit. Default is `NonnegMean.alpha_mart`, the alpha supermartingale test\n",
    "        - `estim`: estimator for the alternative hypothesis for the test. Default is `NonnegMean.shrink_trunc`\n",
    "        - `use_style`: True to use style information from CVRs to target the sample. False for polling audits or for sampling from all ballots for every contest.\n",
    "        - other keys and values are added by the software, including `cvrs`, the number of CVRs that contain the contest, and `p`, the sampling fraction expected to be required to confirm the contest"
   ]
  },
  {
   "cell_type": "code",
   "execution_count": 1,
   "metadata": {},
   "outputs": [],
   "source": [
    "# if shangrla has not already been installed, install it then restart the kernel\n",
    "# !pip install -e \"../../shangrla\""
   ]
  },
  {
   "cell_type": "code",
   "execution_count": 2,
   "metadata": {},
   "outputs": [],
   "source": [
    "import math\n",
    "import json\n",
    "import warnings\n",
    "import numpy as np\n",
    "import pandas as pd\n",
    "import csv\n",
    "import copy\n",
    "\n",
    "from collections import OrderedDict\n",
    "from IPython.display import display, HTML\n",
    "\n",
    "from cryptorandom.cryptorandom import SHA256, int_from_hash\n",
    "from cryptorandom.sample import sample_by_index\n",
    "\n",
    "from shangrla.Audit import Audit, Assertion, Assorter, Contest, CVR, Stratum\n",
    "from shangrla.NonnegMean import NonnegMean\n",
    "from shangrla.Dominion import Dominion\n",
    "from shangrla.Hart import Hart"
   ]
  },
  {
   "cell_type": "code",
   "execution_count": 3,
   "metadata": {},
   "outputs": [
    {
     "data": {
      "text/plain": [
       "'\\nmax_cards = 293555 # 146662 VBM turnout per SF Elections release 12 \\nhttps://sfelections.sfgov.org/november-5-2019-election-results-summary\\n'"
      ]
     },
     "execution_count": 3,
     "metadata": {},
     "output_type": "execute_result"
    }
   ],
   "source": [
    "audit = Audit.from_dict({\n",
    "         'seed':           12345678901234567890,\n",
    "         'sim_seed':       314159265,\n",
    "         'cvr_file':       './Data/SFDA2019/SFDA2019_PrelimReport12VBMJustDASheets.raire',\n",
    "         'manifest_file':  './Data/SFDA2019/N19 ballot manifest with WH location for RLA Upload VBM 11-14.xlsx',\n",
    "         'sample_file':    './Data/sample.csv',\n",
    "         'mvr_file':       './Data/mvr.json',\n",
    "         'log_file':       './Data/log.json',\n",
    "         'quantile':       0.8,\n",
    "         'error_rate_1':   0.001,\n",
    "         'error_rate_2':   0.0,\n",
    "         'reps':           100,\n",
    "         'strata':         {'stratum_1': {'max_cards':   293555, \n",
    "                                          'use_style':   True,\n",
    "                                          'replacement': False,\n",
    "                                          'audit_type':  Audit.AUDIT_TYPE.CARD_COMPARISON,\n",
    "                                          'test':        NonnegMean.alpha_mart,\n",
    "                                          'estimator':   NonnegMean.optimal_comparison,\n",
    "                                          'test_kwargs': {}\n",
    "                                         }\n",
    "                           }\n",
    "        })\n",
    "\n",
    "# find upper bound on total cards across strata\n",
    "audit.max_cards = np.sum([s.max_cards for s in audit.strata.values()])\n",
    "'''\n",
    "max_cards = 293555 # 146662 VBM turnout per SF Elections release 12 \n",
    "https://sfelections.sfgov.org/november-5-2019-election-results-summary\n",
    "'''"
   ]
  },
  {
   "cell_type": "code",
   "execution_count": 4,
   "metadata": {},
   "outputs": [],
   "source": [
    "# contests to audit. Edit with details of your contest (eg., Contest 339 is the DA race)\n",
    "contest_dict = {'339':{\n",
    "                   'name': 'DA',\n",
    "                   'risk_limit':       0.05,\n",
    "                   'cards':            146662,\n",
    "                   'choice_function':  Contest.SOCIAL_CHOICE_FUNCTION.IRV,\n",
    "                   'n_winners':        1,\n",
    "                   'candidates':       ['15','16','17','18','45'],\n",
    "                   'winner':           ['15'],\n",
    "                   'assertion_file':   './Data/SFDA2019/SF2019Nov8Assertions.json',\n",
    "                   'audit_type':       Audit.AUDIT_TYPE.CARD_COMPARISON,\n",
    "                   'test':             NonnegMean.alpha_mart,\n",
    "                   'estim':            NonnegMean.optimal_comparison\n",
    "                  }\n",
    "               }\n",
    "\n",
    "contests = Contest.from_dict_of_dicts(contest_dict)"
   ]
  },
  {
   "cell_type": "markdown",
   "metadata": {},
   "source": [
    "Example of other social choice functions:\n",
    "\n",
    "        contests =  {'city_council':{'name': 'City Council',\n",
    "                             'risk_limit':0.05,\n",
    "                             'cards': None,\n",
    "                             'choice_function': Contest.SOCIAL_CHOICE_FUNCTION.PLURALITY,\n",
    "                             'n_winners':3,\n",
    "                             'candidates':['Doug','Emily','Frank','Gail','Harry'],\n",
    "                             'winner' : ['Doug', 'Emily', 'Frank']\n",
    "                            },\n",
    "                        'measure_1':{'name': 'Measure 1',\n",
    "                             'risk_limit':0.05,\n",
    "                             'cards': 65432,\n",
    "                             'choice_function': Contest.SOCIAL_CHOICE_FUNCTION.SUPERMAJORITY,\n",
    "                             'share_to_win':2/3,\n",
    "                             'n_winners':1,\n",
    "                             'candidates':['yes','no'],\n",
    "                             'winner' : ['yes']\n",
    "                            }                  \n",
    "                      }"
   ]
  },
  {
   "cell_type": "code",
   "execution_count": 5,
   "metadata": {},
   "outputs": [],
   "source": [
    "# read the assertions for the IRV contest\n",
    "for c in contests:\n",
    "    if contests[c].choice_function == Contest.SOCIAL_CHOICE_FUNCTION.IRV:\n",
    "        with open(contests[c].assertion_file, 'r') as f:\n",
    "            contests[c].assertion_json = json.load(f)['audits'][0]['assertions']"
   ]
  },
  {
   "cell_type": "code",
   "execution_count": 6,
   "metadata": {},
   "outputs": [
    {
     "data": {
      "text/plain": [
       "True"
      ]
     },
     "execution_count": 6,
     "metadata": {},
     "output_type": "execute_result"
    }
   ],
   "source": [
    "# construct the dict of dicts of assertions for each contest\n",
    "Assertion.make_all_assertions(contests)"
   ]
  },
  {
   "cell_type": "code",
   "execution_count": 7,
   "metadata": {
    "scrolled": true
   },
   "outputs": [],
   "source": [
    "audit.check_audit_parameters(contests)"
   ]
  },
  {
   "cell_type": "markdown",
   "metadata": {},
   "source": [
    "## Read the ballot manifest"
   ]
  },
  {
   "cell_type": "code",
   "execution_count": 8,
   "metadata": {},
   "outputs": [],
   "source": [
    "# special for Primary/Dominion manifest format\n",
    "manifest = pd.read_excel(audit.manifest_file)"
   ]
  },
  {
   "cell_type": "markdown",
   "metadata": {},
   "source": [
    "## Read the CVR data and create CVR objects"
   ]
  },
  {
   "cell_type": "code",
   "execution_count": 9,
   "metadata": {},
   "outputs": [
    {
     "name": "stdout",
     "output_type": "stream",
     "text": [
      "Read 146664 cvrs; 146662 unique CVR identifiers after merging\n"
     ]
    }
   ],
   "source": [
    "# for ballot-level comparison audits\n",
    "cvr_list, cvrs_read, unique_ids = CVR.from_raire_file(audit.cvr_file)\n",
    "cvr_list = Dominion.raire_to_dominion(cvr_list)\n",
    "print(f'Read {cvrs_read} cvrs; {unique_ids} unique CVR identifiers after merging')"
   ]
  },
  {
   "cell_type": "code",
   "execution_count": 10,
   "metadata": {},
   "outputs": [
    {
     "data": {
      "text/plain": [
       "(293555, 293555)"
      ]
     },
     "execution_count": 10,
     "metadata": {},
     "output_type": "execute_result"
    }
   ],
   "source": [
    "# double-check whether the manifest accounts for every card\n",
    "audit.max_cards, np.sum(manifest['Total Ballots'])"
   ]
  },
  {
   "cell_type": "code",
   "execution_count": 11,
   "metadata": {},
   "outputs": [
    {
     "data": {
      "text/html": [
       "<div>\n",
       "<style scoped>\n",
       "    .dataframe tbody tr th:only-of-type {\n",
       "        vertical-align: middle;\n",
       "    }\n",
       "\n",
       "    .dataframe tbody tr th {\n",
       "        vertical-align: top;\n",
       "    }\n",
       "\n",
       "    .dataframe thead th {\n",
       "        text-align: right;\n",
       "    }\n",
       "</style>\n",
       "<table border=\"1\" class=\"dataframe\">\n",
       "  <thead>\n",
       "    <tr style=\"text-align: right;\">\n",
       "      <th></th>\n",
       "      <th>Tray #</th>\n",
       "      <th>Tabulator Number</th>\n",
       "      <th>Batch Number</th>\n",
       "      <th>Total Ballots</th>\n",
       "      <th>VBMCart.Cart number</th>\n",
       "      <th>cum_cards</th>\n",
       "    </tr>\n",
       "  </thead>\n",
       "  <tbody>\n",
       "    <tr>\n",
       "      <th>0</th>\n",
       "      <td>1</td>\n",
       "      <td>99808</td>\n",
       "      <td>78</td>\n",
       "      <td>116</td>\n",
       "      <td>3</td>\n",
       "      <td>116</td>\n",
       "    </tr>\n",
       "    <tr>\n",
       "      <th>1</th>\n",
       "      <td>1</td>\n",
       "      <td>99808</td>\n",
       "      <td>77</td>\n",
       "      <td>115</td>\n",
       "      <td>3</td>\n",
       "      <td>231</td>\n",
       "    </tr>\n",
       "    <tr>\n",
       "      <th>2</th>\n",
       "      <td>1</td>\n",
       "      <td>99808</td>\n",
       "      <td>79</td>\n",
       "      <td>120</td>\n",
       "      <td>3</td>\n",
       "      <td>351</td>\n",
       "    </tr>\n",
       "    <tr>\n",
       "      <th>3</th>\n",
       "      <td>1</td>\n",
       "      <td>99808</td>\n",
       "      <td>81</td>\n",
       "      <td>76</td>\n",
       "      <td>3</td>\n",
       "      <td>427</td>\n",
       "    </tr>\n",
       "    <tr>\n",
       "      <th>4</th>\n",
       "      <td>1</td>\n",
       "      <td>99808</td>\n",
       "      <td>80</td>\n",
       "      <td>116</td>\n",
       "      <td>3</td>\n",
       "      <td>543</td>\n",
       "    </tr>\n",
       "    <tr>\n",
       "      <th>...</th>\n",
       "      <td>...</td>\n",
       "      <td>...</td>\n",
       "      <td>...</td>\n",
       "      <td>...</td>\n",
       "      <td>...</td>\n",
       "      <td>...</td>\n",
       "    </tr>\n",
       "    <tr>\n",
       "      <th>5476</th>\n",
       "      <td>3506</td>\n",
       "      <td>99815</td>\n",
       "      <td>86</td>\n",
       "      <td>2</td>\n",
       "      <td>19</td>\n",
       "      <td>292557</td>\n",
       "    </tr>\n",
       "    <tr>\n",
       "      <th>5477</th>\n",
       "      <td>3506</td>\n",
       "      <td>99815</td>\n",
       "      <td>84</td>\n",
       "      <td>222</td>\n",
       "      <td>19</td>\n",
       "      <td>292779</td>\n",
       "    </tr>\n",
       "    <tr>\n",
       "      <th>5478</th>\n",
       "      <td>3506</td>\n",
       "      <td>99815</td>\n",
       "      <td>83</td>\n",
       "      <td>346</td>\n",
       "      <td>19</td>\n",
       "      <td>293125</td>\n",
       "    </tr>\n",
       "    <tr>\n",
       "      <th>5479</th>\n",
       "      <td>3506</td>\n",
       "      <td>99815</td>\n",
       "      <td>82</td>\n",
       "      <td>332</td>\n",
       "      <td>19</td>\n",
       "      <td>293457</td>\n",
       "    </tr>\n",
       "    <tr>\n",
       "      <th>5480</th>\n",
       "      <td>3507</td>\n",
       "      <td>99802</td>\n",
       "      <td>822</td>\n",
       "      <td>98</td>\n",
       "      <td>14</td>\n",
       "      <td>293555</td>\n",
       "    </tr>\n",
       "  </tbody>\n",
       "</table>\n",
       "<p>5481 rows × 6 columns</p>\n",
       "</div>"
      ],
      "text/plain": [
       "     Tray # Tabulator Number Batch Number  Total Ballots VBMCart.Cart number  \\\n",
       "0         1            99808           78            116                   3   \n",
       "1         1            99808           77            115                   3   \n",
       "2         1            99808           79            120                   3   \n",
       "3         1            99808           81             76                   3   \n",
       "4         1            99808           80            116                   3   \n",
       "...     ...              ...          ...            ...                 ...   \n",
       "5476   3506            99815           86              2                  19   \n",
       "5477   3506            99815           84            222                  19   \n",
       "5478   3506            99815           83            346                  19   \n",
       "5479   3506            99815           82            332                  19   \n",
       "5480   3507            99802          822             98                  14   \n",
       "\n",
       "      cum_cards  \n",
       "0           116  \n",
       "1           231  \n",
       "2           351  \n",
       "3           427  \n",
       "4           543  \n",
       "...         ...  \n",
       "5476     292557  \n",
       "5477     292779  \n",
       "5478     293125  \n",
       "5479     293457  \n",
       "5480     293555  \n",
       "\n",
       "[5481 rows x 6 columns]"
      ]
     },
     "execution_count": 11,
     "metadata": {},
     "output_type": "execute_result"
    }
   ],
   "source": [
    "# Check that there is a card in the manifest for every card (possibly) cast. If not, add phantoms.\n",
    "manifest, manifest_cards, phantom_cards = Dominion.prep_manifest(manifest, audit.max_cards, len(cvr_list))\n",
    "manifest"
   ]
  },
  {
   "cell_type": "markdown",
   "metadata": {},
   "source": [
    "## Create CVRs for phantom cards"
   ]
  },
  {
   "cell_type": "code",
   "execution_count": 12,
   "metadata": {},
   "outputs": [
    {
     "name": "stdout",
     "output_type": "stream",
     "text": [
      "Created 0 phantom records\n"
     ]
    }
   ],
   "source": [
    "# For Comparison Audits Only\n",
    "#----------------------------\n",
    "\n",
    "# If the sample draws a phantom card, these CVRs will be used in the comparison.\n",
    "# phantom MVRs should be treated as zeros by the Assorter for every contest\n",
    "\n",
    "# setting use_style = False to generate phantoms\n",
    "\n",
    "cvr_list, phantom_vrs = CVR.make_phantoms(audit=audit, contests=contests, cvr_list=cvr_list, prefix='phantom-1-')\n",
    "print(f\"Created {phantom_vrs} phantom records\")"
   ]
  },
  {
   "cell_type": "code",
   "execution_count": 13,
   "metadata": {},
   "outputs": [
    {
     "name": "stdout",
     "output_type": "stream",
     "text": [
      "minimum assorter margin 0.019902906001554532\n",
      "margins in contest 339:\n",
      "\tassertion 18 v 17 elim 15 16 45: 0.045792366120740224\n",
      "\tassertion 17 v 16 elim 15 18 45: 0.019902906001554532\n",
      "\tassertion 15 v 18 elim 16 17 45: 0.028923647570604505\n",
      "\tassertion 18 v 16 elim 15 17 45: 0.0830003681935334\n",
      "\tassertion 17 v 16 elim 15 45: 0.058079120699294995\n",
      "\tassertion 15 v 17 elim 16 45: 0.08064120222007065\n",
      "\tassertion 15 v 17 elim 16 18 45: 0.10951712099930444\n",
      "\tassertion 18 v 16 elim 15 45: 0.14875018750596603\n",
      "\tassertion 15 v 16 elim 17 45: 0.13548158350492967\n",
      "\tassertion 15 v 16 elim 17 18 45: 0.1365247985163165\n",
      "\tassertion 15 v 16 elim 18 45: 0.16666893946625572\n",
      "\tassertion 15 v 16 elim 45: 0.15626406294745743\n",
      "\tassertion 15 v 45: 0.2956457705472446\n"
     ]
    }
   ],
   "source": [
    "# find the mean of the assorters for the CVRs and check whether the assertions are met\n",
    "min_margin = Assertion.set_all_margins_from_cvrs(audit=audit, contests=contests, cvr_list=cvr_list)\n",
    "\n",
    "print(f'minimum assorter margin {min_margin}')\n",
    "Contest.print_margins(contests)"
   ]
  },
  {
   "cell_type": "code",
   "execution_count": 14,
   "metadata": {},
   "outputs": [],
   "source": [
    "audit.write_audit_parameters(contests=contests)"
   ]
  },
  {
   "cell_type": "markdown",
   "metadata": {},
   "source": [
    "## Set up for sampling"
   ]
  },
  {
   "cell_type": "markdown",
   "metadata": {},
   "source": [
    "## Find initial sample size"
   ]
  },
  {
   "cell_type": "code",
   "execution_count": 15,
   "metadata": {},
   "outputs": [
    {
     "name": "stdout",
     "output_type": "stream",
     "text": [
      "sample_size=372\n",
      "[('339', 372)]\n"
     ]
    }
   ],
   "source": [
    "# find initial sample size \n",
    "sample_size = audit.find_sample_size(contests, cvrs=cvr_list)  \n",
    "print(f'{sample_size=}\\n{[(i, c.sample_size) for i, c in contests.items()]}')"
   ]
  },
  {
   "cell_type": "markdown",
   "metadata": {
    "tags": []
   },
   "source": [
    "## Draw the first sample"
   ]
  },
  {
   "cell_type": "code",
   "execution_count": 16,
   "metadata": {},
   "outputs": [
    {
     "data": {
      "text/plain": [
       "True"
      ]
     },
     "execution_count": 16,
     "metadata": {},
     "output_type": "execute_result"
    }
   ],
   "source": [
    "# draw the initial sample using consistent sampling\n",
    "prng = SHA256(audit.seed)\n",
    "CVR.assign_sample_nums(cvr_list, prng)"
   ]
  },
  {
   "cell_type": "code",
   "execution_count": 17,
   "metadata": {},
   "outputs": [
    {
     "name": "stdout",
     "output_type": "stream",
     "text": [
      "The sample includes 0 phantom cards.\n"
     ]
    }
   ],
   "source": [
    "sampled_cvr_indices = CVR.consistent_sampling(cvr_list=cvr_list, contests=contests)\n",
    "n_sampled_phantoms = np.sum(sampled_cvr_indices > manifest_cards)\n",
    "print(f'The sample includes {n_sampled_phantoms} phantom cards.')"
   ]
  },
  {
   "cell_type": "code",
   "execution_count": 18,
   "metadata": {},
   "outputs": [
    {
     "data": {
      "text/plain": [
       "(146662, 293555, 293555)"
      ]
     },
     "execution_count": 18,
     "metadata": {},
     "output_type": "execute_result"
    }
   ],
   "source": [
    "len(cvr_list), manifest_cards, audit.max_cards"
   ]
  },
  {
   "cell_type": "code",
   "execution_count": 19,
   "metadata": {},
   "outputs": [],
   "source": [
    "# for comparison audit\n",
    "cards_to_retrieve, sample_order, cvr_sample, mvr_phantoms_sample = \\\n",
    "    Dominion.sample_from_cvrs(cvr_list, manifest, sampled_cvr_indices)\n",
    "\n",
    "# for polling audit\n",
    "# cards_to_retrieve, sample_order, mvr_phantoms_sample = Dominion.sample_from_manifest(manifest, sample)"
   ]
  },
  {
   "cell_type": "code",
   "execution_count": 20,
   "metadata": {},
   "outputs": [],
   "source": [
    "# write the sample\n",
    "Dominion.write_cards_sampled(audit.sample_file, cards_to_retrieve, print_phantoms=False)"
   ]
  },
  {
   "cell_type": "markdown",
   "metadata": {},
   "source": [
    "## Read the audited sample data"
   ]
  },
  {
   "cell_type": "code",
   "execution_count": 21,
   "metadata": {},
   "outputs": [],
   "source": [
    "# for real data\n",
    "with open(audit.mvr_file) as f:\n",
    "    mvr_json = json.load(f)\n",
    "\n",
    "mvr_sample = CVR.from_dict(mvr_json['ballots'])\n",
    "\n",
    "# for simulated data, no errors\n",
    "mvr_sample = cvr_sample.copy()"
   ]
  },
  {
   "cell_type": "markdown",
   "metadata": {},
   "source": [
    "## Find measured risks for all assertions"
   ]
  },
  {
   "cell_type": "code",
   "execution_count": 22,
   "metadata": {},
   "outputs": [],
   "source": [
    "CVR.prep_comparison_sample(mvr_sample, cvr_sample, sample_order)  # for comparison audit\n",
    "# CVR.prep_polling_sample(mvr_sample, sample_order)  # for polling audit\n",
    "\n",
    "###### TEST\n",
    "# permute part of the sample to introduce errors deliberately\n",
    "mvr_sample = cvr_sample.copy()\n",
    "n_errs = 5\n",
    "errs = mvr_sample[0:n_errs].copy()\n",
    "np.random.seed(12345678)\n",
    "np.random.shuffle(errs)\n",
    "mvr_sample[0:n_errs] = errs"
   ]
  },
  {
   "cell_type": "code",
   "execution_count": 23,
   "metadata": {},
   "outputs": [
    {
     "name": "stdout",
     "output_type": "stream",
     "text": [
      "maximum assertion p-value 0.48779308744628547\n",
      "\n",
      "p-values for assertions in contest 339\n",
      "\t18 v 17 elim 15 16 45: 0.47847909464463045\n",
      "\t17 v 16 elim 15 18 45: 0.48779308744628547\n",
      "\t15 v 18 elim 16 17 45: 0.44631352397209006\n",
      "\t18 v 16 elim 15 17 45: 2.877844184074244e-07\n",
      "\t17 v 16 elim 15 45: 0.0035354717267599813\n",
      "\t15 v 17 elim 16 45: 4.0458461637126434e-07\n",
      "\t15 v 17 elim 16 18 45: 2.3358046805505937e-07\n",
      "\t18 v 16 elim 15 45: 5.790407277111407e-13\n",
      "\t15 v 16 elim 17 45: 9.312863307985585e-12\n",
      "\t15 v 16 elim 17 18 45: 1.8495628594508403e-09\n",
      "\t15 v 16 elim 18 45: 1.1604860427653792e-14\n",
      "\t15 v 16 elim 45: 9.55405920633293e-14\n",
      "\t15 v 45: 1.373326785425354e-26\n",
      "\n",
      "contest 339 audit INCOMPLETE at risk limit 0.05. Attained risk 0.48779308744628547\n",
      "assertions remaining to be proved:\n",
      "\t18 v 17 elim 15 16 45\tcontest_id: 339 winner: 18 loser: 17 assorter: contest_id: 339\n",
      "upper bound: 1, winner defined: False, loser defined: False, assort defined: True p-value: 0.47847909464463045 margin: 0.045792366120740224 test: test: <bound method NonnegMean.alpha_mart of <shangrla.NonnegMean.NonnegMean object at 0x7fc4190de3e0>> estim: <bound method NonnegMean.optimal_comparison of <shangrla.NonnegMean.NonnegMean object at 0x7fc4190de3e0>> upper bound u: 1.0234327025065595 N: 146662 null mean t: 0.5 kwargs: {} p-history length: 372 proved: False sample_size: 160 assorter upper bound: 1: current risk 0.47847909464463045\n",
      "\t17 v 16 elim 15 18 45\tcontest_id: 339 winner: 17 loser: 16 assorter: contest_id: 339\n",
      "upper bound: 1, winner defined: False, loser defined: False, assort defined: True p-value: 0.48779308744628547 margin: 0.019902906001554532 test: test: <bound method NonnegMean.alpha_mart of <shangrla.NonnegMean.NonnegMean object at 0x7fc4190df4c0>> estim: <bound method NonnegMean.optimal_comparison of <shangrla.NonnegMean.NonnegMean object at 0x7fc4190df4c0>> upper bound u: 1.0100514798298927 N: 146662 null mean t: 0.5 kwargs: {} p-history length: 372 proved: False sample_size: 372 assorter upper bound: 1: current risk 0.48779308744628547\n",
      "\t15 v 18 elim 16 17 45\tcontest_id: 339 winner: 15 loser: 18 assorter: contest_id: 339\n",
      "upper bound: 1, winner defined: False, loser defined: False, assort defined: True p-value: 0.44631352397209006 margin: 0.028923647570604505 test: test: <bound method NonnegMean.alpha_mart of <shangrla.NonnegMean.NonnegMean object at 0x7fc4190dedd0>> estim: <bound method NonnegMean.optimal_comparison of <shangrla.NonnegMean.NonnegMean object at 0x7fc4190dedd0>> upper bound u: 1.0146740371244145 N: 146662 null mean t: 0.5 kwargs: {} p-history length: 372 proved: False sample_size: 255 assorter upper bound: 1: current risk 0.44631352397209006\n"
     ]
    }
   ],
   "source": [
    "p_max = Assertion.set_p_values(contests=contests, mvr_sample=mvr_sample, cvr_sample=cvr_sample)\n",
    "print(f'maximum assertion p-value {p_max}')\n",
    "done = audit.summarize_status(contests)"
   ]
  },
  {
   "cell_type": "code",
   "execution_count": 24,
   "metadata": {},
   "outputs": [],
   "source": [
    "# Log the status of the audit \n",
    "audit.write_audit_parameters(contests)"
   ]
  },
  {
   "cell_type": "markdown",
   "metadata": {},
   "source": [
    "# How many more cards should be audited?\n",
    "\n",
    "Estimate how many more cards will need to be audited to confirm any remaining contests. The enlarged sample size is based on:\n",
    "\n",
    "* cards already sampled\n",
    "* the assumption that we will continue to see errors at the same rate observed in the sample"
   ]
  },
  {
   "cell_type": "code",
   "execution_count": 25,
   "metadata": {},
   "outputs": [
    {
     "name": "stdout",
     "output_type": "stream",
     "text": [
      "new_size=7098\n",
      "[('339', 6726)]\n"
     ]
    }
   ],
   "source": [
    "# Estimate sample size required to confirm the outcome, if errors continue\n",
    "# at the same rate as already observed.\n",
    "\n",
    "new_size = audit.find_sample_size(contests, cvrs=cvr_list, mvr_sample=mvr_sample, cvr_sample=cvr_sample)\n",
    "print(f'{new_size=}\\n{[(i, c.sample_size) for i, c in contests.items()]}')\n"
   ]
  },
  {
   "cell_type": "code",
   "execution_count": 26,
   "metadata": {},
   "outputs": [],
   "source": [
    "# save the first sample\n",
    "sampled_cvr_indices_old, cards_to_retrieve_old, sample_order_old, cvr_sample_old, mvr_phantoms_sample_old = \\\n",
    "    sampled_cvr_indices, cards_to_retrieve,     sample_order,     cvr_sample,     mvr_phantoms_sample"
   ]
  },
  {
   "cell_type": "code",
   "execution_count": 27,
   "metadata": {},
   "outputs": [
    {
     "name": "stdout",
     "output_type": "stream",
     "text": [
      "The sample includes 0 phantom cards.\n"
     ]
    }
   ],
   "source": [
    "# draw the sample\n",
    "sampled_cvr_indices = CVR.consistent_sampling(cvr_list=cvr_list, contests=contests)\n",
    "n_sampled_phantoms = np.sum(sampled_cvr_indices > manifest_cards)\n",
    "print(f'The sample includes {n_sampled_phantoms} phantom cards.')\n",
    "\n",
    "# for comparison audit\n",
    "cards_to_retrieve, sample_order, cvr_sample, mvr_phantoms_sample = \\\n",
    "    Dominion.sample_from_cvrs(cvr_list, manifest, sampled_cvr_indices)\n",
    "\n",
    "# for polling audit\n",
    "# cards_to_retrieve, sample_order, mvr_phantoms_sample = Dominion.sample_from_manifest(manifest, sample)\n",
    "\n",
    "# write the sample\n",
    "# could write only the incremental sample using list(set(cards_to_retrieve) - set(cards_to_retrieve_old))\n",
    "Dominion.write_cards_sampled(audit.sample_file, cards_to_retrieve, print_phantoms=False)"
   ]
  },
  {
   "cell_type": "code",
   "execution_count": 28,
   "metadata": {},
   "outputs": [],
   "source": [
    "# for real data\n",
    "with open(audit.mvr_file) as f:\n",
    "    mvr_json = json.load(f)\n",
    "\n",
    "mvr_sample = CVR.from_dict(mvr_json['ballots'])\n",
    "\n",
    "# for simulated data, no errors\n",
    "mvr_sample = cvr_sample.copy()"
   ]
  },
  {
   "cell_type": "markdown",
   "metadata": {},
   "source": [
    "## Find measured risks for all assertions"
   ]
  },
  {
   "cell_type": "code",
   "execution_count": 29,
   "metadata": {},
   "outputs": [],
   "source": [
    "CVR.prep_comparison_sample(mvr_sample, cvr_sample, sample_order)  # for comparison audit\n",
    "# CVR.prep_polling_sample(mvr_sample, sample_order)  # for polling audit\n",
    "\n",
    "###### TEST\n",
    "# permute part of the sample to introduce errors deliberately\n",
    "mvr_sample = cvr_sample.copy()\n",
    "n_errs = 5\n",
    "errs = mvr_sample[0:n_errs].copy()\n",
    "np.random.seed(12345678)\n",
    "np.random.shuffle(errs)\n",
    "mvr_sample[0:n_errs] = errs"
   ]
  },
  {
   "cell_type": "code",
   "execution_count": 30,
   "metadata": {},
   "outputs": [
    {
     "name": "stdout",
     "output_type": "stream",
     "text": [
      "maximum assertion p-value 1.2395432394747009e-28\n",
      "\n",
      "p-values for assertions in contest 339\n",
      "\t18 v 17 elim 15 16 45: 1.4449144036994632e-65\n",
      "\t17 v 16 elim 15 18 45: 1.2395432394747009e-28\n",
      "\t15 v 18 elim 16 17 45: 5.2774518365009846e-42\n",
      "\t18 v 16 elim 15 17 45: 6.205447790363212e-127\n",
      "\t17 v 16 elim 15 45: 2.8080650629218943e-86\n",
      "\t15 v 17 elim 16 45: 2.6490812247796027e-123\n",
      "\t15 v 17 elim 16 18 45: 1.7998086930305547e-166\n",
      "\t18 v 16 elim 15 45: 1.7022899132638306e-231\n",
      "\t15 v 16 elim 17 45: 4.74504262834718e-210\n",
      "\t15 v 16 elim 17 18 45: 2.445447527327654e-209\n",
      "\t15 v 16 elim 18 45: 9.191770721839916e-261\n",
      "\t15 v 16 elim 45: 8.342200191989171e-244\n",
      "\t15 v 45: 0.0\n",
      "\n",
      "contest 339 AUDIT COMPLETE at risk limit 0.05. Attained risk 1.2395432394747009e-28\n"
     ]
    }
   ],
   "source": [
    "p_max = Assertion.set_p_values(contests=contests, mvr_sample=mvr_sample, cvr_sample=cvr_sample)\n",
    "print(f'maximum assertion p-value {p_max}')\n",
    "done = audit.summarize_status(contests)"
   ]
  },
  {
   "cell_type": "code",
   "execution_count": null,
   "metadata": {},
   "outputs": [],
   "source": []
  }
 ],
 "metadata": {
  "kernelspec": {
   "display_name": "Python 3 (ipykernel)",
   "language": "python",
   "name": "python3"
  },
  "language_info": {
   "codemirror_mode": {
    "name": "ipython",
    "version": 3
   },
   "file_extension": ".py",
   "mimetype": "text/x-python",
   "name": "python",
   "nbconvert_exporter": "python",
   "pygments_lexer": "ipython3",
   "version": "3.11.7"
  },
  "widgets": {
   "state": {
    "6cab9cab294247839758fa9e8d64d122": {
     "views": [
      {
       "cell_index": 42
      }
     ]
    },
    "b7b0321f834d45ebb1bdc036fba7a916": {
     "views": [
      {
       "cell_index": 38
      }
     ]
    }
   },
   "version": "1.2.0"
  }
 },
 "nbformat": 4,
 "nbformat_minor": 4
}
